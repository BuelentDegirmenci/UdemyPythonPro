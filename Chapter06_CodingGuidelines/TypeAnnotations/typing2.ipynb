{
 "cells": [
  {
   "cell_type": "code",
   "execution_count": 8,
   "id": "1ae2d150",
   "metadata": {},
   "outputs": [
    {
     "name": "stdout",
     "output_type": "stream",
     "text": [
      "Hello Jan\n"
     ]
    },
    {
     "name": "stderr",
     "output_type": "stream",
     "text": [
      "Runtime type is 'str'\n"
     ]
    },
    {
     "data": {
      "text/plain": [
       "'Hello Jan'"
      ]
     },
     "execution_count": 8,
     "metadata": {},
     "output_type": "execute_result"
    }
   ],
   "source": [
    "from typing import reveal_type\n",
    "\n",
    "def greeting(name: str) -> str:\n",
    "    return \"Hello\" + \" \" + name\n",
    "\n",
    "res = greeting(\"Jan\")\n",
    "print(res)\n",
    "\n",
    "reveal_type(res)"
   ]
  },
  {
   "cell_type": "code",
   "execution_count": null,
   "id": "944859e6",
   "metadata": {},
   "outputs": [],
   "source": []
  }
 ],
 "metadata": {
  "kernelspec": {
   "display_name": "py311",
   "language": "python",
   "name": "python3"
  },
  "language_info": {
   "codemirror_mode": {
    "name": "ipython",
    "version": 3
   },
   "file_extension": ".py",
   "mimetype": "text/x-python",
   "name": "python",
   "nbconvert_exporter": "python",
   "pygments_lexer": "ipython3",
   "version": "3.11.13"
  }
 },
 "nbformat": 4,
 "nbformat_minor": 5
}

{
 "cells": [
  {
   "cell_type": "markdown",
   "id": "61717024",
   "metadata": {},
   "source": [
    "Special Parameters \n",
    "\n",
    "Neben dem *args und **kwargs gibt es noch zwei Parameter, nämlich * und /\n",
    "\n",
    "* und /: geben an, in welcher Reihenfolge man etwas eingeben darf, und weitere Beschränkungen. \n",
    "\n",
    "\n",
    "\n"
   ]
  },
  {
   "cell_type": "code",
   "execution_count": 1,
   "id": "e713c520",
   "metadata": {},
   "outputs": [
    {
     "name": "stdout",
     "output_type": "stream",
     "text": [
      "2\n",
      "2\n"
     ]
    }
   ],
   "source": [
    "def standard_arg(a):\n",
    "    print(a)\n",
    "\n",
    "\n",
    "standard_arg(2)\n",
    "standard_arg(a=2)"
   ]
  },
  {
   "cell_type": "code",
   "execution_count": 2,
   "id": "bf2efe2f",
   "metadata": {},
   "outputs": [
    {
     "name": "stdout",
     "output_type": "stream",
     "text": [
      "<class 'function'>\n"
     ]
    }
   ],
   "source": [
    "def f(a, b, c=None):\n",
    "    if c:\n",
    "        return a + b\n",
    "    else:\n",
    "        return None\n",
    "\n",
    "my_var = f\n",
    "print(type(my_var))"
   ]
  },
  {
   "cell_type": "code",
   "execution_count": null,
   "id": "51a525ad",
   "metadata": {},
   "outputs": [
    {
     "name": "stdout",
     "output_type": "stream",
     "text": [
      "<class 'function'>\n"
     ]
    }
   ],
   "source": [
    "def f(a):\n",
    "    def g(a):\n",
    "        return a\n",
    "    return g\n",
    "\n",
    "my_var = f(2)\n",
    "print(type(my_var))"
   ]
  },
  {
   "cell_type": "code",
   "execution_count": null,
   "id": "0408b935",
   "metadata": {},
   "outputs": [
    {
     "name": "stdout",
     "output_type": "stream",
     "text": [
      "<class 'int'>\n"
     ]
    }
   ],
   "source": [
    "def f(a):\n",
    "    def g(a):\n",
    "        return a\n",
    "    return g(a)\n",
    "\n",
    "my_var = f(2)\n",
    "print(type(my_var))"
   ]
  },
  {
   "cell_type": "code",
   "execution_count": null,
   "id": "3687319d",
   "metadata": {},
   "outputs": [],
   "source": []
  }
 ],
 "metadata": {
  "kernelspec": {
   "display_name": "base",
   "language": "python",
   "name": "python3"
  },
  "language_info": {
   "codemirror_mode": {
    "name": "ipython",
    "version": 3
   },
   "file_extension": ".py",
   "mimetype": "text/x-python",
   "name": "python",
   "nbconvert_exporter": "python",
   "pygments_lexer": "ipython3",
   "version": "3.12.9"
  }
 },
 "nbformat": 4,
 "nbformat_minor": 5
}

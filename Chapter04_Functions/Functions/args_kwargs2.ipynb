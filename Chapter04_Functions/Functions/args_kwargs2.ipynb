{
 "cells": [
  {
   "cell_type": "code",
   "execution_count": null,
   "id": "70ecf863",
   "metadata": {},
   "outputs": [
    {
     "name": "stdout",
     "output_type": "stream",
     "text": [
      "a: 1, b: 2, c: 10, d: 12\n"
     ]
    }
   ],
   "source": [
    "def my_function(a, b, c=10, d=12, e=13):\n",
    "    print(f\"a: {a}, b: {b}, c: {c}, d: {d}\")\n",
    "\n",
    "# Positionsabhängige Eingabe der Parameter, e.g. 1 geht zu Position 1, b geht zu Position 2\n",
    "# a und b sind Pflichtparameter\n",
    "my_function(1, 2)\n"
   ]
  },
  {
   "cell_type": "markdown",
   "id": "a8fdba0e",
   "metadata": {},
   "source": [
    "Postional Aguments"
   ]
  },
  {
   "cell_type": "code",
   "execution_count": 5,
   "id": "58048a1b",
   "metadata": {},
   "outputs": [
    {
     "name": "stdout",
     "output_type": "stream",
     "text": [
      "3 4 <class 'tuple'>\n",
      "a: 1, b: 2, args: (3, 4)\n"
     ]
    }
   ],
   "source": [
    "# Diese Postionsabhängige Parameter kann man vereinfachen, wenn man eine belibiege Anzahl an Positionsparametern bzw.\n",
    "# Argumenten bestimmen will, seine Funktion oder bereitstellen will.\n",
    "\n",
    "# *args: der Benutzer kann eine beliebige Anzahl an weiteren Potional Arguments- Parametern eingeben\n",
    "# args ist kein key - word, sollte man allerdings args nutzen\n",
    "# * (das einzelne Sternchen) hier erinnert dran dass es ein Tupel ist\n",
    "\n",
    "\n",
    "def my_function2(a, b, *args):\n",
    "    print(*args, type(args))\n",
    "    print(f\"a: {a}, b: {b}, args: {args}\")\n",
    "\n",
    "my_function2(1, 2, 3, 4)\n"
   ]
  },
  {
   "cell_type": "code",
   "execution_count": 8,
   "id": "35841ce5",
   "metadata": {},
   "outputs": [
    {
     "name": "stdout",
     "output_type": "stream",
     "text": [
      "1 2 3 4 <class 'tuple'>\n",
      "args: (1, 2, 3, 4)\n"
     ]
    }
   ],
   "source": [
    "def my_function3(*args):\n",
    "    print(*args, type(args))\n",
    "    print(f\"args: {args}\")\n",
    "\n",
    "my_function3(1, 2, 3, 4)"
   ]
  },
  {
   "cell_type": "markdown",
   "id": "493a2cd0",
   "metadata": {},
   "source": [
    "Bei der Eingabe ist die gültige Reinfolge der Parameter: Plichtparameter, dann *args, dann default paramter : \n",
    "Normal args, *args, default args"
   ]
  },
  {
   "cell_type": "code",
   "execution_count": 9,
   "id": "c7c18e7f",
   "metadata": {},
   "outputs": [
    {
     "name": "stdout",
     "output_type": "stream",
     "text": [
      "1 2 3 4 <class 'tuple'>\n",
      "args: (1, 2, 3, 4)\n"
     ]
    }
   ],
   "source": [
    "def my_function4(a, *args, b=None):\n",
    "    print(*args, type(args))\n",
    "    print(f\"a: {a}, b: {b} args: {args}\")\n",
    "\n",
    "my_function3(1, 2, 3, 4)"
   ]
  },
  {
   "cell_type": "markdown",
   "id": "470ad295",
   "metadata": {},
   "source": [
    "Keyword Arguments\n",
    "1. Pflichtargument args\n",
    "2. *args\n",
    "   1. Tuple \n",
    "3. default args (None, e.g. d=10)\n",
    "4. **kwargs\n",
    "   1. Dict"
   ]
  },
  {
   "cell_type": "code",
   "execution_count": null,
   "id": "e37eb16e",
   "metadata": {},
   "outputs": [
    {
     "name": "stdout",
     "output_type": "stream",
     "text": [
      "(3, 4) <class 'tuple'>\n",
      "{'b': False, 'c': 30, 'd': 40.5} <class 'dict'>\n",
      "a: 1, x: 13.132, y: 3, z: 4\n",
      "args: (3, 4)\n",
      "kwargs: {'b': False, 'c': 30, 'd': 40.5}\n"
     ]
    }
   ],
   "source": [
    "# kwargs = keyword arguments\n",
    "# args: können wir gar keinen Parameternamen angeben\n",
    "# kwargs: müssen wir Parameternamen angeben. im Beispiel unten c, und d\n",
    "# c=key, 30=value, d=key, 40.50=value\n",
    "# kwargs: wird als dict eingegeben,\n",
    "# args wird als tuple eingegeben\n",
    "def my_function(a, *args, x=2, y=3, z=4, **kwargs):\n",
    "    print(args, type(args))\n",
    "    print(kwargs, type(kwargs))\n",
    "    print(f\"a: {a}, x: {x}, y: {y}, z: {z}\\nargs: {args}\\nkwargs: {kwargs}\")\n",
    "\n",
    "\n",
    "my_function(1, 3, 4, x=13.132, b=False, c=30, d=40.50)"
   ]
  },
  {
   "cell_type": "code",
   "execution_count": 17,
   "id": "ecb01d7d",
   "metadata": {},
   "outputs": [
    {
     "name": "stdout",
     "output_type": "stream",
     "text": [
      "args: (1, 3, 4), kwargs: {'x': 13.65, 'b': False, 'c': 30, 'd': 40.55}\n"
     ]
    }
   ],
   "source": [
    "def my_function5(*args, **kwargs):\n",
    "    print(f\"args: {args}, kwargs: {kwargs}\")\n",
    "\n",
    "\n",
    "my_function5(1, 3, 4, x=13.65, b=False, c=30, d=40.55)"
   ]
  },
  {
   "cell_type": "code",
   "execution_count": null,
   "id": "bcc711cb",
   "metadata": {},
   "outputs": [],
   "source": []
  }
 ],
 "metadata": {
  "kernelspec": {
   "display_name": "base",
   "language": "python",
   "name": "python3"
  },
  "language_info": {
   "codemirror_mode": {
    "name": "ipython",
    "version": 3
   },
   "file_extension": ".py",
   "mimetype": "text/x-python",
   "name": "python",
   "nbconvert_exporter": "python",
   "pygments_lexer": "ipython3",
   "version": "3.12.9"
  }
 },
 "nbformat": 4,
 "nbformat_minor": 5
}

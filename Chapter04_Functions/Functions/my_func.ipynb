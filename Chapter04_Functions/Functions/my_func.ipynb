{
 "cells": [
  {
   "cell_type": "markdown",
   "id": "a19e57c8",
   "metadata": {},
   "source": [
    "- Für Parameter kann man default Werte setzen\n",
    "- Die Funktion g unten hat in den ersten beiden Parametern keinen und letzten zwei Default werte \n",
    "- Im Python, ist der Parameter mit default value versehen, so kann man den Parameter beim aufrufen auslassen, e.g. p3 und p4 kann man auslassen beim aufrufen, so würden die default values angenommen\n",
    "- "
   ]
  },
  {
   "cell_type": "code",
   "execution_count": 91,
   "id": "b19835e7",
   "metadata": {},
   "outputs": [],
   "source": [
    "def g(p1, p2, p3=0, p4=10):\n",
    "    print(f\"p1: {p1}, p2: {p2}, p3: {p3}, p4: {p4}\")"
   ]
  },
  {
   "cell_type": "code",
   "execution_count": 92,
   "id": "8d027271",
   "metadata": {},
   "outputs": [
    {
     "name": "stdout",
     "output_type": "stream",
     "text": [
      "p1: 10, p2: 20, p3: 10, p4: 20\n"
     ]
    }
   ],
   "source": [
    "in1 = 10\n",
    "in2 = 20\n",
    "in3 = 10\n",
    "in4 = 20\n",
    "\n",
    "g(p1=in1, p2=in2, p3=in3, p4=in4)"
   ]
  },
  {
   "cell_type": "markdown",
   "id": "cfa7b731",
   "metadata": {},
   "source": [
    "- möchte man die default verändern, so würde man den Parameternamen mit angeben, nach dem Gleichheitszeichen, den Wert zusweisen"
   ]
  },
  {
   "cell_type": "code",
   "execution_count": 93,
   "id": "1c8d470e",
   "metadata": {},
   "outputs": [
    {
     "name": "stdout",
     "output_type": "stream",
     "text": [
      "[1, 2, 3]\n"
     ]
    }
   ],
   "source": [
    "def append_list(my_list: list, value) -> list:\n",
    "    my_list.append(value)\n",
    "    return my_list\n",
    "\n",
    "l = [1, 2]\n",
    "\n",
    "l = append_list(l, 3)\n",
    "print(l)"
   ]
  },
  {
   "cell_type": "markdown",
   "id": "3e02a068",
   "metadata": {},
   "source": [
    "# Function Attributes\n",
    "- in Python ist alles ein Objekt einer bestimmten Klasse\n",
    "- Bei einer Funktion ist nicht anders \n",
    "- "
   ]
  },
  {
   "cell_type": "code",
   "execution_count": 94,
   "id": "67d10f2f",
   "metadata": {},
   "outputs": [
    {
     "name": "stdout",
     "output_type": "stream",
     "text": [
      "<function grow_list at 0x00000235F6700F40> <class 'function'>\n"
     ]
    }
   ],
   "source": [
    "def grow_list(val, my_list=None) -> list:\n",
    "    if my_list:\n",
    "        my_list.append(val)\n",
    "    else:\n",
    "        my_list = [val]\n",
    "    return my_list\n",
    "\n",
    "my_func = grow_list # die Variable zeigt auf dieses Funktionsobjekt\n",
    "# So ein Funktionsobjekt ist callable weil es __call__ Methode implementiert hat\n",
    "# Funktion auf einen Funktionspointer kann man es hier auch nennen\n",
    "\n",
    "print(my_func, type(my_func))"
   ]
  },
  {
   "cell_type": "code",
   "execution_count": 95,
   "id": "7a2caee4",
   "metadata": {},
   "outputs": [
    {
     "name": "stdout",
     "output_type": "stream",
     "text": [
      "[10]\n"
     ]
    }
   ],
   "source": [
    "def print_function_output(fn, **kwargs):\n",
    "    print(fn(**kwargs))\n",
    "\n",
    "\n",
    "print_function_output(my_func, val=10)"
   ]
  },
  {
   "cell_type": "code",
   "execution_count": 96,
   "id": "148a3905",
   "metadata": {},
   "outputs": [
    {
     "data": {
      "text/plain": [
       "[1, 2, 10]"
      ]
     },
     "execution_count": 96,
     "metadata": {},
     "output_type": "execute_result"
    }
   ],
   "source": [
    "my_func(10, [1, 2])"
   ]
  },
  {
   "cell_type": "code",
   "execution_count": 97,
   "id": "9abf3c20",
   "metadata": {},
   "outputs": [],
   "source": [
    "def grow_list(val, my_list=None, a=2, b=False):\n",
    "    if my_list:\n",
    "        my_list.append(val)\n",
    "    else:\n",
    "        my_list = [val]\n",
    "    return my_list"
   ]
  },
  {
   "cell_type": "code",
   "execution_count": 98,
   "id": "d9162528",
   "metadata": {},
   "outputs": [
    {
     "name": "stdout",
     "output_type": "stream",
     "text": [
      "(None, 2, False)\n"
     ]
    }
   ],
   "source": [
    "print(grow_list.__defaults__)"
   ]
  },
  {
   "cell_type": "code",
   "execution_count": 99,
   "id": "a06ee325",
   "metadata": {},
   "outputs": [
    {
     "name": "stdout",
     "output_type": "stream",
     "text": [
      "grow_list\n"
     ]
    }
   ],
   "source": [
    "print(grow_list.__name__)"
   ]
  },
  {
   "cell_type": "code",
   "execution_count": 100,
   "id": "e63e047d",
   "metadata": {},
   "outputs": [
    {
     "name": "stdout",
     "output_type": "stream",
     "text": [
      "4\n",
      "('val', 'my_list', 'a', 'b')\n"
     ]
    }
   ],
   "source": [
    "print(grow_list.__code__.co_argcount)\n",
    "print(grow_list.__code__.co_varnames)"
   ]
  },
  {
   "cell_type": "code",
   "execution_count": null,
   "id": "f9c5145c",
   "metadata": {},
   "outputs": [],
   "source": [
    "def grow_list2(val, my_list=[]) -> list:\n",
    "    my_list.append(val)\n",
    "    return my_list\n",
    "\n",
    "# Der Standardwert [] wird nur einmal beim Definieren der Funktion erstellt – nicht bei jedem Funktionsaufruf neu.\n",
    "# Dadurch wird immer dieselbe Liste wiederverwendet, wenn kein eigener Wert übergeben wird.\n",
    "# Beim Mutable Type, wenn auch der Wert verändert wird, bleibt die Speicheradresse bestehen.\n",
    "# nach dem ersten Aufruf unten wurde die Liste verändert, weil es mutable ist, wird keine Variable angelegt,\n",
    "# sondern die bestehende Variable bleibt, halt mit dem veränderten Wert\n",
    "# Das problem tritt bei Immutable Types nicht auf, weil dort, wenn der Wert verändert werden würde, dann würde die\n",
    "# Variable auf eine andere Speicheradresse zeigen. Dann wäre es eher egal was vorher abgespeichert war\n",
    "# Deswegen tritt es bei Mutable Types auf, weil der Pointer immer noch auf die gleiche Speicheradresse\n",
    "# auf das veränderte Objekt zeigt\n",
    "# Generell sollte niemals Mutable Types nicht als Default-Werte eingeben"
   ]
  },
  {
   "cell_type": "code",
   "execution_count": 106,
   "id": "94c599b9",
   "metadata": {},
   "outputs": [
    {
     "name": "stdout",
     "output_type": "stream",
     "text": [
      "[42]\n"
     ]
    }
   ],
   "source": [
    "my_list2 = grow_list2(42)\n",
    "print(my_list2)\n"
   ]
  },
  {
   "cell_type": "code",
   "execution_count": 107,
   "id": "9c16f426",
   "metadata": {},
   "outputs": [
    {
     "name": "stdout",
     "output_type": "stream",
     "text": [
      "[43]\n"
     ]
    }
   ],
   "source": [
    "my_list3 = grow_list(43)\n",
    "print(my_list3)"
   ]
  },
  {
   "cell_type": "markdown",
   "id": "3956fedf",
   "metadata": {},
   "source": [
    "GOOD\n",
    "- Fehler durch Mutable Type \"good\" gemacht, siehe unten "
   ]
  },
  {
   "cell_type": "code",
   "execution_count": null,
   "id": "fa9ea6e5",
   "metadata": {},
   "outputs": [],
   "source": [
    "def grow_list3(val, my_list=None) -> list:\n",
    "    if my_list: # hier würden wir wirklich einen Listenwert übergeben\n",
    "        my_list.append(val)\n",
    "    else: # Im else Fall wäre es None\n",
    "        my_list = [val]\n",
    "    return my_list"
   ]
  },
  {
   "cell_type": "code",
   "execution_count": 124,
   "id": "aef8f4bb",
   "metadata": {},
   "outputs": [
    {
     "name": "stdout",
     "output_type": "stream",
     "text": [
      "[42]\n",
      "[43]\n"
     ]
    }
   ],
   "source": [
    "my_list2 = grow_list(42)\n",
    "print(my_list2)\n",
    "my_list3 = grow_list(43)\n",
    "print(my_list3)"
   ]
  }
 ],
 "metadata": {
  "kernelspec": {
   "display_name": "base",
   "language": "python",
   "name": "python3"
  },
  "language_info": {
   "codemirror_mode": {
    "name": "ipython",
    "version": 3
   },
   "file_extension": ".py",
   "mimetype": "text/x-python",
   "name": "python",
   "nbconvert_exporter": "python",
   "pygments_lexer": "ipython3",
   "version": "3.12.9"
  }
 },
 "nbformat": 4,
 "nbformat_minor": 5
}

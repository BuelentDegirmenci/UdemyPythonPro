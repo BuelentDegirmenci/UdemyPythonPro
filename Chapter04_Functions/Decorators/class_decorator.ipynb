{
 "cells": [
  {
   "cell_type": "code",
   "execution_count": 85,
   "id": "48646f4a",
   "metadata": {},
   "outputs": [],
   "source": [
    "from pprint import pformat\n",
    "from typing import Any"
   ]
  },
  {
   "cell_type": "code",
   "execution_count": 86,
   "id": "82817961",
   "metadata": {},
   "outputs": [],
   "source": [
    "# betterrpr: ist der Dekorator, also die Funktion unten.\n",
    "# cls: ist ein Class-Object\n",
    "def betterrepr(cls: Any) -> Any:\n",
    "    \"\"\"Improve representation of a class\"\"\"\n",
    "\n",
    "    # das ist so eine Innerfunction\n",
    "    # durch self ist es eine Instanz von MyClass. Später obj = MyClass(\"I am an intance variable\")\n",
    "    # in dieser Innerfunction, self: nimmt eine Instanz der dekorierten Klasse entgegen.\n",
    "    # Das wäre später eine Insanz von MyClass, also ganz unten obj (obj = MyClass())\n",
    "    # durch self in der Innerfunktion können wir auf die Attribute der Kasse zugreifen\n",
    "    def custom_repr(self):\n",
    "        return (\n",
    "            f\"Instance of {type(self).__name__}, vars = {pformat(vars(self))}\"\n",
    "        )\n",
    "    cls.__repr__ = custom_repr\n",
    "    # der Klasse selber fügen wir dynamisch diese __repr__ Implementierung hinzu, die wir custom_repr genannt haben\n",
    "    return cls"
   ]
  },
  {
   "cell_type": "markdown",
   "id": "2beff7de",
   "metadata": {},
   "source": [
    "wie kann man eine Klasse oder Methode mit eigenem Dekorator selber decorieren? -> @betterrepr"
   ]
  },
  {
   "cell_type": "code",
   "execution_count": 87,
   "id": "66553dd8",
   "metadata": {},
   "outputs": [],
   "source": [
    "# hier wird die ganze Klasse dekoriert.\n",
    "@betterrepr\n",
    "# decorator von oben, um die Klasse zu dekorieren\n",
    "# Der Name MyClass kann beliebig gewählt werden\n",
    "# Alle Klassen die wir mit diesem Dektorator annotiere, den Klassen biete ich eine\n",
    "# Implementierung der Danda-Repr - Methoode __repr__ = custom_repr,\n",
    "# D.h. über so einen Klassendekorator kann man einer Klasse bestimmte Funktionalitäten hinzufügen\n",
    "# was auch eine Funktionalität für die Vererbung wäre, jedoch würde es hier mit der Vererbung nicht viel Sinn ergeben\n",
    "# daher haben wir hier diesen Dekorator\n",
    "class MyClass:\n",
    "    def __init__(self, isinstance_variable: str) -> None:\n",
    "        print(\"Init the instance!\")\n",
    "        self.instance_variable = isinstance_variable\n",
    "\n",
    "\n",
    "# Die Klasse nimmt eine beliebige Anzahl an Parametern entgegen\n",
    "# Allen Klassen die wir mit @betterrpr dekorieren, geben wir eine __repr__ Methode ein"
   ]
  },
  {
   "cell_type": "code",
   "execution_count": 88,
   "id": "39cc4c67",
   "metadata": {},
   "outputs": [
    {
     "name": "stdout",
     "output_type": "stream",
     "text": [
      "Init the instance!\n",
      "Instance of MyClass, vars = {'instance_variable': 'I am an intance variable'}\n"
     ]
    }
   ],
   "source": [
    "obj = MyClass(\"I am an intance variable\")\n",
    "print(obj)"
   ]
  },
  {
   "cell_type": "markdown",
   "id": "275b45ad",
   "metadata": {},
   "source": [
    "wie kann man eine Methode dekorieren? "
   ]
  },
  {
   "cell_type": "code",
   "execution_count": 89,
   "id": "63fe08c1",
   "metadata": {},
   "outputs": [],
   "source": [
    "class MyStaticMethod:\n",
    "    def __init__(self, func):\n",
    "        print(\"__init__\")\n",
    "        self.func = func\n",
    "        # beim definieren der Klasse speichern wir ab, welche Funktion oder Methode wir dekoriert haben.\n",
    "        # das speichern wir in self.func ab, was ja static_method() object wäre.\n",
    "        # Alles in Python ist ein Object\n",
    "\n",
    "    def __get__(self, instance, owner):\n",
    "        print(\"__get__\")\n",
    "        print(instance)\n",
    "        print(owner)\n",
    "        return self.func"
   ]
  },
  {
   "cell_type": "code",
   "execution_count": 90,
   "id": "068e1d39",
   "metadata": {},
   "outputs": [
    {
     "name": "stdout",
     "output_type": "stream",
     "text": [
      "__init__\n"
     ]
    }
   ],
   "source": [
    "class MyClass:\n",
    "    def __init__(self, instance_variable: str) -> None:\n",
    "        self.intance_variable = instance_variable\n",
    "\n",
    "    # Hier wird nicht die ganze Klasse, sondern die Methode einer Klasse dekoriert.\n",
    "    # Diese StaticMethod ist selber eine Klasse, die dann danda-Init und danda-get implementiert hat\n",
    "    @MyStaticMethod\n",
    "    # wenn ich MyClass.static_method() aufrufe, also wenn wir die Methode von dieser Klasse aufrufen, bevor die eigentlich Methode aufgerufen wird, wird erstmal  # noqa: E501\n",
    "    # die get-Methode aufgerufen die get-methode returnt die Funktion, die wir davor bei der Dekoration abgespeichert haben, deswegen  # noqa: E501\n",
    "    # dürfen oder brauchen wir kein self in der static method oben.\n",
    "    # self würde bei einer static-methode keinen Sinn ergeben, weil es sich nicht auf eine Instanz sondern auf die Klasse bezieht  # noqa: E501\n",
    "    def static_method():\n",
    "        print(\"This is a static method\")"
   ]
  },
  {
   "cell_type": "code",
   "execution_count": 91,
   "id": "aa12213e",
   "metadata": {},
   "outputs": [
    {
     "name": "stdout",
     "output_type": "stream",
     "text": [
      "__get__\n",
      "None\n",
      "<class '__main__.MyClass'>\n",
      "This is a static method\n"
     ]
    }
   ],
   "source": [
    "MyClass.static_method()"
   ]
  },
  {
   "cell_type": "markdown",
   "id": "a3a80629",
   "metadata": {},
   "source": [
    "wenn ich MyClass.static_method() aufrufe, also wenn wir die Methode von dieser Klasse aufrufen, bevor die eigentlich Methode aufgerufen wird, wird erstmal die get-Methode aufgerufen\n",
    "die get-methode returnt die Funktion, die wir davor bei der Dekoration abgespeichert haben, deswegen dürfen oder brauchen wir kein self in der static method oben. \n"
   ]
  },
  {
   "cell_type": "code",
   "execution_count": 92,
   "id": "10b4ee3b",
   "metadata": {},
   "outputs": [
    {
     "name": "stdout",
     "output_type": "stream",
     "text": [
      "Decorating...\n",
      "Init the instance!\n",
      "Instance of MyClass, vars = {'instance_variable': 'This is a test'}\n"
     ]
    }
   ],
   "source": [
    "def betterrepr2(cls: Any) -> Any:\n",
    "    \"\"\"Improve representation of a class\"\"\"\n",
    "    print(\"Decorating...\")\n",
    "    # wenn wir sehen, wollen wann die Dekoration stattfindet, bei der Klassendefinition, nicht wenn wir später\n",
    "    # ein objekt erstellen.\n",
    "    # Die Kasse wird bei der Definition dekoriert, weil dieser Dekorator so gesehen, gehört mit zur Definition dazu.\n",
    "    # das ist nur einmalig.\n",
    "\n",
    "    def custom_repr(self):\n",
    "        return (\n",
    "            f\"Instance of {type(self).__name__}, vars = {pformat(vars(self))}\"\n",
    "        )\n",
    "    cls.__repr__ = custom_repr\n",
    "    return cls\n",
    "\n",
    "\n",
    "@betterrepr2\n",
    "class MyClass:\n",
    "    def __init__(self, isinstance_variable: str) -> None:\n",
    "        print(\"Init the instance!\")\n",
    "        self.instance_variable = isinstance_variable\n",
    "\n",
    "\n",
    "obj2 = MyClass(\"This is a test\")\n",
    "print(obj2)"
   ]
  },
  {
   "cell_type": "code",
   "execution_count": null,
   "id": "7c8333e7",
   "metadata": {},
   "outputs": [],
   "source": []
  }
 ],
 "metadata": {
  "kernelspec": {
   "display_name": "base",
   "language": "python",
   "name": "python3"
  },
  "language_info": {
   "codemirror_mode": {
    "name": "ipython",
    "version": 3
   },
   "file_extension": ".py",
   "mimetype": "text/x-python",
   "name": "python",
   "nbconvert_exporter": "python",
   "pygments_lexer": "ipython3",
   "version": "3.9.7"
  }
 },
 "nbformat": 4,
 "nbformat_minor": 5
}

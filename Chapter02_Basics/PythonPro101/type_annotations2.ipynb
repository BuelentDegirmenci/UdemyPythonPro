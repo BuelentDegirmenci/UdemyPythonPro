{
 "cells": [
  {
   "cell_type": "code",
   "execution_count": 9,
   "id": "71142b78",
   "metadata": {},
   "outputs": [],
   "source": [
    "def function(a: int | float) -> int | float:  # Was die Funktion returnen soll wird hinter dem -> Operator geschrieben\n",
    "    return a * 2\n",
    "\n",
    "\n",
    "result = function(2)"
   ]
  },
  {
   "cell_type": "code",
   "execution_count": 10,
   "id": "f5e2da64",
   "metadata": {},
   "outputs": [],
   "source": [
    "result2 = function(2.3)"
   ]
  },
  {
   "cell_type": "markdown",
   "id": "90f3e886",
   "metadata": {},
   "source": [
    "wenn die Funktion nichts returnt, dann -> None "
   ]
  }
 ],
 "metadata": {
  "kernelspec": {
   "display_name": "base",
   "language": "python",
   "name": "python3"
  },
  "language_info": {
   "codemirror_mode": {
    "name": "ipython",
    "version": 3
   },
   "file_extension": ".py",
   "mimetype": "text/x-python",
   "name": "python",
   "nbconvert_exporter": "python",
   "pygments_lexer": "ipython3",
   "version": "3.12.9"
  }
 },
 "nbformat": 4,
 "nbformat_minor": 5
}

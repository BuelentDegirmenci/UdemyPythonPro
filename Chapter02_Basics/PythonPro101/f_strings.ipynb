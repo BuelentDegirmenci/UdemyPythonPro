{
 "cells": [
  {
   "cell_type": "code",
   "execution_count": null,
   "id": "a3b55899",
   "metadata": {},
   "outputs": [
    {
     "name": "stdout",
     "output_type": "stream",
     "text": [
      "Hello my name is: Jan, i am 25 years old!\n"
     ]
    }
   ],
   "source": [
    "def f_format_string(name: str, age: int) -> str:\n",
    "    return f\"Hello my name is: {name}, i am {age} years old!\"\n",
    "\n",
    "\n",
    "# f_format_string(\"Jan\", 27)\n",
    "print(f_format_string(\"Jan\", 25))"
   ]
  },
  {
   "cell_type": "code",
   "execution_count": null,
   "id": "feea1de7",
   "metadata": {},
   "outputs": [
    {
     "name": "stdout",
     "output_type": "stream",
     "text": [
      "Jan\n"
     ]
    }
   ],
   "source": [
    "name = \"Jan\"\n",
    "\n",
    "print(f\"{name}\")"
   ]
  },
  {
   "cell_type": "code",
   "execution_count": null,
   "id": "7a6f20d6",
   "metadata": {},
   "outputs": [],
   "source": []
  }
 ],
 "metadata": {
  "kernelspec": {
   "display_name": "base",
   "language": "python",
   "name": "python3"
  },
  "language_info": {
   "codemirror_mode": {
    "name": "ipython",
    "version": 3
   },
   "file_extension": ".py",
   "mimetype": "text/x-python",
   "name": "python",
   "nbconvert_exporter": "python",
   "pygments_lexer": "ipython3",
   "version": "3.12.9"
  }
 },
 "nbformat": 4,
 "nbformat_minor": 5
}

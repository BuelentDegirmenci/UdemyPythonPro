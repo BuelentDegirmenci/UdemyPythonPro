{
 "cells": [
  {
   "cell_type": "code",
   "execution_count": 3,
   "id": "1d56d05a",
   "metadata": {},
   "outputs": [
    {
     "name": "stdout",
     "output_type": "stream",
     "text": [
      "\n",
      "\n"
     ]
    }
   ],
   "source": [
    "def memory_address(var: hex) -> hex:\n",
    "    return hex(id(var) % 0xfffff)\n",
    "\n",
    "\n",
    "def print_set_info(st):\n",
    "    print(f\"Set address: {memory_address(st)}\")\n",
    "    for val in st:\n",
    "        print(f\"Val: {memory_address(val)}\")\n",
    "print(\"\\n\")"
   ]
  },
  {
   "cell_type": "markdown",
   "id": "68f215ca",
   "metadata": {},
   "source": [
    "# Set\n",
    "\n",
    "- werte: bool, int, float, str, tuple, None (Immutable types)\n",
    "- Set ist ähnlich wie die Dicts, beinhalten jedoch nur Values \n",
    "- Auch hier unter der Haube ein Hashing Verfahren verwendet wird, um die Daten abzuspeichern \n",
    "- Und nur bei Immutable types kann sichergestellt werden kann, dass für den jeweiligen Wert der Hash-value konstant bleibt \n",
    "- Alle mutable types in Pyhton sind un-hashable \n"
   ]
  },
  {
   "cell_type": "code",
   "execution_count": 5,
   "id": "8bcba7b7",
   "metadata": {},
   "outputs": [
    {
     "name": "stdout",
     "output_type": "stream",
     "text": [
      "Set address: 0x86285\n",
      "Val: 0xd4dc9\n",
      "Val: 0xd4de9\n",
      "Val: 0xd4e09\n"
     ]
    }
   ],
   "source": [
    "my_set1 = {1, 2, 3, 1}\n",
    "print_set_info(my_set1)"
   ]
  },
  {
   "cell_type": "markdown",
   "id": "2bed7cad",
   "metadata": {},
   "source": [
    "# Set Comprehension"
   ]
  },
  {
   "cell_type": "code",
   "execution_count": 8,
   "id": "2709e51b",
   "metadata": {},
   "outputs": [
    {
     "name": "stdout",
     "output_type": "stream",
     "text": [
      "{0, 1, 2, 3, 4, 5, 6, 7, 8, 9}\n"
     ]
    }
   ],
   "source": [
    "my_set_comp = {i for i in range(10)}\n",
    "print(my_set_comp)"
   ]
  },
  {
   "cell_type": "code",
   "execution_count": 9,
   "id": "20e8c815",
   "metadata": {},
   "outputs": [
    {
     "name": "stdout",
     "output_type": "stream",
     "text": [
      "Set address: 0x85fe5\n",
      "Val: 0xd4da9\n",
      "Val: 0xd4dc9\n",
      "Val: 0xd4de9\n",
      "Val: 0xd4e09\n",
      "Val: 0xd4e29\n",
      "Val: 0xd4e49\n",
      "Val: 0xd4e69\n",
      "Val: 0xd4e89\n",
      "Val: 0xd4ea9\n",
      "Val: 0xd4ec9\n"
     ]
    }
   ],
   "source": [
    "print_set_info(my_set_comp)"
   ]
  },
  {
   "cell_type": "markdown",
   "id": "7a69078b",
   "metadata": {},
   "source": [
    "- set ist unhashable, d.h. ein verschatetelstes Set kann man nicht nehmen, das geht einfach nicht\n",
    "- Ein set ist nicht „hashable“ – also kann man es nicht als Element in einem anderen set verwenden.\n",
    "- "
   ]
  }
 ],
 "metadata": {
  "kernelspec": {
   "display_name": "base",
   "language": "python",
   "name": "python3"
  },
  "language_info": {
   "codemirror_mode": {
    "name": "ipython",
    "version": 3
   },
   "file_extension": ".py",
   "mimetype": "text/x-python",
   "name": "python",
   "nbconvert_exporter": "python",
   "pygments_lexer": "ipython3",
   "version": "3.12.9"
  }
 },
 "nbformat": 4,
 "nbformat_minor": 5
}

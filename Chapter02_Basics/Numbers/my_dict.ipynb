{
 "cells": [
  {
   "cell_type": "code",
   "execution_count": 13,
   "id": "5622e1f4",
   "metadata": {},
   "outputs": [],
   "source": [
    "def memory_adress(var: hex) -> hex:\n",
    "    return hex(id(var) % 0xfffff)\n",
    "\n",
    "def print_dict_info(dct):\n",
    "    print(f\" Dict address: {memory_adress}\")\n",
    "    for key in dct:\n",
    "        print(f\"Dict[{key}]: {memory_adress(dct[key])}\")\n",
    "    print(\" \")\n"
   ]
  },
  {
   "cell_type": "code",
   "execution_count": 14,
   "id": "3ab0c7a8",
   "metadata": {},
   "outputs": [],
   "source": [
    "# Dictionoaries bestehen aus key und values. Bei den Values können wir alles abpeichern, mutable oder immutable tpyes.\n",
    "# bei den keys können wir nur immutable types abspeichern, was bei uns bool, int, float, string und none war\n",
    "# bei den keys kann man e.g. keine Liste nehmen\n",
    "# warum ist es so, unter der wird Dictionary als hash-verfahren abgespeichert und nur bei immutable types sicher\n",
    "# gestellt ist dass der hash Wert immer der gleiche bleibt für den jeweiligen Wert welche in dem Dictionary\n",
    "# abgespeichert ist\n",
    "# das ist wegen einem effizienten Lookup verfahren so gemacht\n"
   ]
  },
  {
   "cell_type": "code",
   "execution_count": 15,
   "id": "a4a61b58",
   "metadata": {},
   "outputs": [
    {
     "name": "stdout",
     "output_type": "stream",
     "text": [
      "{True: 'test', 10: [1, 2, 3], None: 10.5, 10.1: {'k': 'V'}, 'Jan': {'test'}, (10, 20): (5, 4)}\n",
      " Dict address: <function memory_adress at 0x000001F9DDDE6F20>\n",
      "Dict[True]: 0x71b50\n",
      "Dict[10]: 0x21860\n",
      "Dict[None]: 0xe95ef\n",
      "Dict[10.1]: 0x206e0\n",
      "Dict[Jan]: 0x6cf1f\n",
      "Dict[(10, 20)]: 0xfe95f\n",
      " \n"
     ]
    }
   ],
   "source": [
    "my_dict1 = {\n",
    "    True: \"test\",\n",
    "    10: [1, 2, 3],\n",
    "    None: 10.5,\n",
    "    10.1: {\"k\": \"V\"},\n",
    "    \"Jan\": {\"test\"},\n",
    "    (10, 20): (5, 4)\n",
    "}\n",
    "\n",
    "print(my_dict1)\n",
    "print_dict_info(my_dict1)"
   ]
  },
  {
   "cell_type": "markdown",
   "id": "02a15ce0",
   "metadata": {},
   "source": [
    "# Dict Comprehensin"
   ]
  },
  {
   "cell_type": "code",
   "execution_count": 17,
   "id": "380f76e5",
   "metadata": {},
   "outputs": [
    {
     "name": "stdout",
     "output_type": "stream",
     "text": [
      "{0: 0, 1: 1, 2: 4, 3: 9, 4: 16}\n"
     ]
    }
   ],
   "source": [
    "my_dict1 = {}\n",
    "\n",
    "for i in range(5):\n",
    "    my_dict1[i] = i**2\n",
    "\n",
    "print(my_dict1)"
   ]
  },
  {
   "cell_type": "code",
   "execution_count": null,
   "id": "2b585793",
   "metadata": {},
   "outputs": [
    {
     "name": "stdout",
     "output_type": "stream",
     "text": [
      "{0: 0, 1: 1, 2: 4, 3: 9, 4: 16}\n"
     ]
    }
   ],
   "source": [
    "my_dict2 = {i: i**2 for i in range(5)}\n",
    "print(my_dict2)\n",
    "\n",
    "# dict bestehen aus key and values\n",
    "# dict werden durch {} Klammern gekennzeichent\n"
   ]
  },
  {
   "cell_type": "markdown",
   "id": "46ff7a48",
   "metadata": {},
   "source": [
    "# Dict Merge\n"
   ]
  },
  {
   "cell_type": "code",
   "execution_count": 20,
   "id": "84cf26a3",
   "metadata": {},
   "outputs": [],
   "source": [
    "# wenn man zwei oder drei dicts vorliegen hat, wie man sie in einem dict mergen kann"
   ]
  },
  {
   "cell_type": "markdown",
   "id": "0522218b",
   "metadata": {},
   "source": [
    "# Vor Python ver. 3.9"
   ]
  },
  {
   "cell_type": "code",
   "execution_count": 22,
   "id": "611c2ac4",
   "metadata": {},
   "outputs": [
    {
     "name": "stdout",
     "output_type": "stream",
     "text": [
      "{0: 0, 1: 1, 2: 4, 3: 9, 4: 16}\n"
     ]
    }
   ],
   "source": [
    "my_result_dict1 = {**my_dict1, **my_dict2}\n",
    "print(my_result_dict1)"
   ]
  },
  {
   "cell_type": "markdown",
   "id": "62432f0e",
   "metadata": {},
   "source": [
    "# Nach Python ver. 3.9"
   ]
  },
  {
   "cell_type": "code",
   "execution_count": 24,
   "id": "30af5d58",
   "metadata": {},
   "outputs": [
    {
     "name": "stdout",
     "output_type": "stream",
     "text": [
      "{0: 0, 1: 1, 2: 4, 3: 9, 4: 16}\n"
     ]
    }
   ],
   "source": [
    "my_result_dict3 = my_dict1 | my_dict2\n",
    "print(my_result_dict3)"
   ]
  },
  {
   "cell_type": "code",
   "execution_count": null,
   "id": "ec10ffab",
   "metadata": {},
   "outputs": [],
   "source": []
  }
 ],
 "metadata": {
  "kernelspec": {
   "display_name": "base",
   "language": "python",
   "name": "python3"
  },
  "language_info": {
   "codemirror_mode": {
    "name": "ipython",
    "version": 3
   },
   "file_extension": ".py",
   "mimetype": "text/x-python",
   "name": "python",
   "nbconvert_exporter": "python",
   "pygments_lexer": "ipython3",
   "version": "3.12.9"
  }
 },
 "nbformat": 4,
 "nbformat_minor": 5
}

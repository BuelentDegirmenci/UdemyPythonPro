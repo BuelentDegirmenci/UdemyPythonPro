{
 "cells": [
  {
   "cell_type": "code",
   "execution_count": 48,
   "id": "c03da64d",
   "metadata": {},
   "outputs": [
    {
     "name": "stdout",
     "output_type": "stream",
     "text": [
      "0x7ff935739a38\n"
     ]
    }
   ],
   "source": [
    "def print_memory_adress(var: int) -> hex:\n",
    "    return hex(id(var))\n",
    "# id: gibt die Speicheradresse der Variable zurück. Dort wird eine Speicheradresse als int wert zurückgegeben.\n",
    "\n",
    "result = print_memory_adress(5)\n",
    "print(result)"
   ]
  },
  {
   "cell_type": "code",
   "execution_count": 49,
   "id": "42b54eff",
   "metadata": {},
   "outputs": [
    {
     "data": {
      "text/plain": [
       "'0x7ff935739ad8'"
      ]
     },
     "execution_count": 49,
     "metadata": {},
     "output_type": "execute_result"
    }
   ],
   "source": [
    "my_value = 10 # Ein Ojbket des Datentpys int\n",
    "print_memory_adress(my_value)\n"
   ]
  },
  {
   "cell_type": "code",
   "execution_count": 50,
   "id": "12e7b212",
   "metadata": {},
   "outputs": [
    {
     "name": "stdout",
     "output_type": "stream",
     "text": [
      "0x7ff935739ed8\n",
      "0x7ff935739ed8\n",
      "0x7ff935739ed8\n"
     ]
    }
   ],
   "source": [
    "my_int1 = 42\n",
    "my_int2 = 42\n",
    "my_int3 = 42\n",
    "\n",
    "restult_1 = print_memory_adress(my_int1)\n",
    "print(restult_1)\n",
    "restult_2 = print_memory_adress(my_int2)\n",
    "print(restult_2)\n",
    "restult_3 = print_memory_adress(my_int3)\n",
    "print(restult_3)\n",
    "\n",
    "# alle drei Variablen zeigen auf dieselbe Speicheradresse, jedoch nur bei kleinen int values , nicht bei größeren\n",
    "# das gleiche gilt auch für boolean"
   ]
  },
  {
   "cell_type": "code",
   "execution_count": 51,
   "id": "5d2d9ec1",
   "metadata": {},
   "outputs": [
    {
     "name": "stdout",
     "output_type": "stream",
     "text": [
      "0x20a4c44d910\n",
      "0x20a4e76bd50\n",
      "0x20a4e940250\n"
     ]
    }
   ],
   "source": [
    "my_float1 = 42.0\n",
    "my_float2 = 42.0\n",
    "my_float3 = 42.0\n",
    "\n",
    "# Unterschiedliche Speicheradressen\n",
    "\n",
    "restult_1f = print_memory_adress(my_float1)\n",
    "print(restult_1f)\n",
    "restult_2f = print_memory_adress(my_float2)\n",
    "print(restult_2f)\n",
    "restult_3f = print_memory_adress(my_float3)\n",
    "print(restult_3f)"
   ]
  },
  {
   "cell_type": "code",
   "execution_count": 52,
   "id": "fa17aa58",
   "metadata": {},
   "outputs": [],
   "source": [
    "# für int, bool und None gelten die gleichen Speicheradressen bei verschiedenen Variablen"
   ]
  },
  {
   "cell_type": "code",
   "execution_count": 53,
   "id": "833dc5ff",
   "metadata": {},
   "outputs": [],
   "source": [
    "\n",
    "\n",
    "# seed: damit wir alle die gleiche Zufallsvariable generieren\n"
   ]
  },
  {
   "cell_type": "code",
   "execution_count": 54,
   "id": "ec26a53b",
   "metadata": {},
   "outputs": [
    {
     "name": "stdout",
     "output_type": "stream",
     "text": [
      "[128]\n"
     ]
    }
   ],
   "source": [
    "import random\n",
    "random.seed(42)\n",
    "my_list1 = []\n",
    "\n",
    "\n",
    "def append_random_value(l: list) -> list:\n",
    "    l.append(random.randint(-100, 1000))\n",
    "    return l\n",
    "\n",
    "\n",
    "result_my_list = append_random_value(my_list1)\n",
    "print(result_my_list)\n"
   ]
  },
  {
   "cell_type": "code",
   "execution_count": 58,
   "id": "3a4f2947",
   "metadata": {},
   "outputs": [
    {
     "name": "stdout",
     "output_type": "stream",
     "text": [
      "0x20a4e00abc0\n",
      "0x20a4e00abc0\n"
     ]
    },
    {
     "data": {
      "text/plain": [
       "[1, 4, 9]"
      ]
     },
     "execution_count": 58,
     "metadata": {},
     "output_type": "execute_result"
    }
   ],
   "source": [
    "def square_list(my_list: int) -> int:\n",
    "    r1 = print_memory_adress(my_list)\n",
    "    print(r1)\n",
    "    result = [val**2 for val in my_list]\n",
    "    r2 = print_memory_adress(my_list)\n",
    "    print(r2)\n",
    "    return result\n",
    "\n",
    "my_list1 = [1, 2, 3]\n",
    "square_list(my_list1)\n"
   ]
  }
 ],
 "metadata": {
  "kernelspec": {
   "display_name": "base",
   "language": "python",
   "name": "python3"
  },
  "language_info": {
   "codemirror_mode": {
    "name": "ipython",
    "version": 3
   },
   "file_extension": ".py",
   "mimetype": "text/x-python",
   "name": "python",
   "nbconvert_exporter": "python",
   "pygments_lexer": "ipython3",
   "version": "3.12.9"
  }
 },
 "nbformat": 4,
 "nbformat_minor": 5
}

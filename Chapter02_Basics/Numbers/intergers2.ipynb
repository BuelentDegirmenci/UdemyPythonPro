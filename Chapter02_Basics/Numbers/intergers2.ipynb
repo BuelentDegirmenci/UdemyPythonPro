{
 "cells": [
  {
   "cell_type": "code",
   "execution_count": 1,
   "id": "79a8eb55",
   "metadata": {},
   "outputs": [
    {
     "name": "stdout",
     "output_type": "stream",
     "text": [
      "Interger size: 28\n"
     ]
    }
   ],
   "source": [
    "import sys\n",
    "import math\n",
    "\n",
    "my_value = 42\n",
    "print(f\"Interger size: {sys.getsizeof(my_value)}\")"
   ]
  },
  {
   "cell_type": "markdown",
   "id": "f1e6e3ca",
   "metadata": {},
   "source": [
    "1. Die Ausgabe ist in Byte, also um 42 abzuspeichern braucht man 28 Byte, aber warum? Woher kommen die anderen 27 Bytes? \n",
    "   1. Weil es ein Objekt ist und in Python alles ist ein Objekt, das wird für das ganze Beiwerkt, Attribute benötigt dieser Pythonklasse - \n",
    "2. In Pyhton ist die größe von Integers nicht festgelegt wie die anderen Programmiersprachen"
   ]
  },
  {
   "cell_type": "code",
   "execution_count": 2,
   "id": "33168e6e",
   "metadata": {},
   "outputs": [
    {
     "name": "stdout",
     "output_type": "stream",
     "text": [
      "Interger size: 36\n"
     ]
    }
   ],
   "source": [
    "my_value = 2**64\n",
    "print(f\"Interger size: {sys.getsizeof(my_value)}\")"
   ]
  },
  {
   "cell_type": "code",
   "execution_count": null,
   "id": "ed446c8c",
   "metadata": {},
   "outputs": [
    {
     "name": "stdout",
     "output_type": "stream",
     "text": [
      "Result: 2.0 Type: <class 'float'>\n"
     ]
    }
   ],
   "source": [
    "result = 10 / 5\n",
    "print(f\"Result: {result} Type: {type(result)}\")"
   ]
  },
  {
   "cell_type": "markdown",
   "id": "aed9cfee",
   "metadata": {},
   "source": [
    "wenn man e.g. ein Interger durch die Division von 10 / 3 haben möchte, dann kann man den Operator 10 // 3 verwenden. Diesen Operator gibt es in anderen Sprachen nicht. "
   ]
  },
  {
   "cell_type": "code",
   "execution_count": 4,
   "id": "2aacfee1",
   "metadata": {},
   "outputs": [
    {
     "name": "stdout",
     "output_type": "stream",
     "text": [
      "Result: 3 Type: <class 'int'>\n"
     ]
    }
   ],
   "source": [
    "result = 10 // 3\n",
    "print(f\"Result: {result} Type: {type(result)}\")"
   ]
  },
  {
   "cell_type": "code",
   "execution_count": null,
   "id": "ed810a50",
   "metadata": {},
   "outputs": [
    {
     "name": "stdout",
     "output_type": "stream",
     "text": [
      "Hello World!\n"
     ]
    }
   ],
   "source": [
    "a = True\n",
    "b = False\n",
    "\n",
    "if b or a:\n",
    "    print(\"Hello World!\")"
   ]
  },
  {
   "cell_type": "code",
   "execution_count": null,
   "id": "0d1058f4",
   "metadata": {},
   "outputs": [
    {
     "name": "stdout",
     "output_type": "stream",
     "text": [
      "True\n"
     ]
    }
   ],
   "source": [
    "val1 = True\n",
    "val2 = False\n",
    "val3 = False\n",
    "\n",
    "result = ((val1 == (not val2)) and (val3 == val2))\n",
    "print(result)"
   ]
  }
 ],
 "metadata": {
  "kernelspec": {
   "display_name": "base",
   "language": "python",
   "name": "python3"
  },
  "language_info": {
   "codemirror_mode": {
    "name": "ipython",
    "version": 3
   },
   "file_extension": ".py",
   "mimetype": "text/x-python",
   "name": "python",
   "nbconvert_exporter": "python",
   "pygments_lexer": "ipython3",
   "version": "3.12.9"
  }
 },
 "nbformat": 4,
 "nbformat_minor": 5
}

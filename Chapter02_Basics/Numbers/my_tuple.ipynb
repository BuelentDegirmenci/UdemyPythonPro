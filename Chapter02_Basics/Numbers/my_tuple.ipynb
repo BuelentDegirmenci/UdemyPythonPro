{
 "cells": [
  {
   "cell_type": "code",
   "execution_count": 12,
   "id": "7ec5ad6a",
   "metadata": {},
   "outputs": [],
   "source": [
    "def memory_address(var: hex) -> hex:\n",
    "    return hex(id(var) % 0xfffff)\n",
    "\n",
    "\n",
    "def print_tuple_info(tpl: tuple) -> tuple:\n",
    "    print(f\"Tupple Adress: {memory_address(tpl)}\")\n",
    "    print(\"\\n\")\n",
    "    for val in tpl:\n",
    "        print(f\"Val: {memory_address(val)}\")\n",
    "    print(\"\\n\")"
   ]
  },
  {
   "cell_type": "code",
   "execution_count": 13,
   "id": "34bfd542",
   "metadata": {},
   "outputs": [
    {
     "name": "stdout",
     "output_type": "stream",
     "text": [
      "Tupple Adress: 0x53947\n",
      "\n",
      "\n",
      "Val: 0xd4e09\n",
      "Val: 0xd4e49\n",
      "Val: 0xd5749\n",
      "\n",
      "\n"
     ]
    }
   ],
   "source": [
    "my_tuple = (3, 5, 77)\n",
    "print_tuple_info(my_tuple)\n"
   ]
  },
  {
   "cell_type": "markdown",
   "id": "29c935cd",
   "metadata": {},
   "source": [
    "Tupple:  is an Immutable Type. Ein Tuple wenn es angelegt ist, kann nicht verändert werden. Tuple sind nicht durch Klammern sondern durch Komma gekennzeichnet. Beispiel: my_var = (10) ist kein Tuple, jedoch my_tuple = (10,) ist ein Tuple\n",
    "\n",
    "Liste: is Mutable Type, die Werte können vernädert und  hinzugefügt oder entfernt werden "
   ]
  },
  {
   "cell_type": "code",
   "execution_count": null,
   "id": "3c35fb81",
   "metadata": {},
   "outputs": [],
   "source": [
    "my_list = [1]\n",
    "my_tuple2 = (10, 20, my_list)\n",
    "# die  int values sind nicht Immutable, jedoch die Liste schon. D.h. wir können die Liste verändern, aber nicht an\n",
    "# Index zwei einen Wert zuweisen.\n",
    "# Länge in Stein gemeißelt\n",
    "# Man kann den Wert eines Tupels ändern, sofert der Wert ein Mutable Type ist"
   ]
  },
  {
   "cell_type": "code",
   "execution_count": 15,
   "id": "574d26e4",
   "metadata": {},
   "outputs": [
    {
     "name": "stdout",
     "output_type": "stream",
     "text": [
      "Tupple Adress: 0x71107\n",
      "\n",
      "\n",
      "Val: 0xd4ee9\n",
      "Val: 0xd5029\n",
      "Val: 0x8a5c7\n",
      "\n",
      "\n"
     ]
    }
   ],
   "source": [
    "print_tuple_info(my_tuple2)"
   ]
  },
  {
   "cell_type": "markdown",
   "id": "7c32f42e",
   "metadata": {},
   "source": [
    "# Tuple Packing & Unpacking"
   ]
  },
  {
   "cell_type": "code",
   "execution_count": 18,
   "id": "678fd1cd",
   "metadata": {},
   "outputs": [],
   "source": [
    "def function():\n",
    "    return (10, 42.0, True, None)"
   ]
  },
  {
   "cell_type": "code",
   "execution_count": 21,
   "id": "17cee409",
   "metadata": {},
   "outputs": [
    {
     "name": "stdout",
     "output_type": "stream",
     "text": [
      "(10, 42.0, True, None)\n"
     ]
    }
   ],
   "source": [
    "tpl = function()\n",
    "print(tpl)"
   ]
  },
  {
   "cell_type": "markdown",
   "id": "b697bc22",
   "metadata": {},
   "source": [
    "# Tuple unpacken"
   ]
  },
  {
   "cell_type": "markdown",
   "id": "63019586",
   "metadata": {},
   "source": [
    "my_int, my_float, my_bool, my_none = tpl\n",
    "\n",
    "Anzahl der gewählten Namen (variablen) muss mit der Anzal der Elemente in tuple übereinstimmen. Variablennamen sind frei wählbar"
   ]
  },
  {
   "cell_type": "code",
   "execution_count": 22,
   "id": "d4d12a6e",
   "metadata": {},
   "outputs": [],
   "source": [
    "# möchte man allerdings bestimmte Werte aus Tuple in eine Variable abspreichen\n",
    "# dann kann man es wie wie folgendem machen"
   ]
  },
  {
   "cell_type": "markdown",
   "id": "b12e088e",
   "metadata": {},
   "source": [
    "my_int, _, _, my_none = tpl"
   ]
  },
  {
   "cell_type": "markdown",
   "id": "f5d5fcbf",
   "metadata": {},
   "source": [
    "# Tuple packen"
   ]
  },
  {
   "cell_type": "markdown",
   "id": "bfe0c605",
   "metadata": {},
   "source": [
    "z.b. von my_int, my_float, my_bool, my_none = tpl möchte die ersten beiden Werte beibehalten und Rest packen\n",
    "\n",
    "my_int3, my_float3, *packed_tuple = tpl"
   ]
  },
  {
   "cell_type": "code",
   "execution_count": 23,
   "id": "fadebd1c",
   "metadata": {},
   "outputs": [
    {
     "name": "stdout",
     "output_type": "stream",
     "text": [
      "[True, None]\n"
     ]
    }
   ],
   "source": [
    "\n",
    "my_int3, my_float3, *packed_tuple = tpl\n",
    "print(packed_tuple)"
   ]
  },
  {
   "cell_type": "code",
   "execution_count": 26,
   "id": "f4512186",
   "metadata": {},
   "outputs": [
    {
     "name": "stdout",
     "output_type": "stream",
     "text": [
      "[4, 1, 0, 1, 2]\n"
     ]
    }
   ],
   "source": [
    "my_list = [val**2 if val < 0 else val for val in range(-2, 3, 1)]\n",
    "print(my_list)"
   ]
  },
  {
   "cell_type": "code",
   "execution_count": null,
   "id": "7df6210e",
   "metadata": {},
   "outputs": [],
   "source": []
  }
 ],
 "metadata": {
  "kernelspec": {
   "display_name": "base",
   "language": "python",
   "name": "python3"
  },
  "language_info": {
   "codemirror_mode": {
    "name": "ipython",
    "version": 3
   },
   "file_extension": ".py",
   "mimetype": "text/x-python",
   "name": "python",
   "nbconvert_exporter": "python",
   "pygments_lexer": "ipython3",
   "version": "3.12.9"
  }
 },
 "nbformat": 4,
 "nbformat_minor": 5
}

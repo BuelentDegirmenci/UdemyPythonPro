{
 "cells": [
  {
   "cell_type": "markdown",
   "id": "a5567991",
   "metadata": {},
   "source": [
    "### Class Method\n",
    "- wenn ich später eine Variable der Klasse anlege, dann ist es ja eine Instanz \n",
    "- Das einfachste für die Class Methode ist das man die Funktion aufruft und diese returnt dann eine neue Instanz von der Klasse, so ne Art factory Funktion   \n",
    "\n",
    "### Static Method \n",
    "- modifiziert nicht den Objekt-state einer Instanz aber auch nicht den Classen State, d.h. Static Method ändert nicht die Klassen definition selber aber auch nicht die Werte von einer real existierende Instanz dieser Klasse \n",
    "- Es wird nur dann genutzt wenn man eine Funktionalität, die sehr stark einer Klasse gehört aber nicht die Attribute eine Instanz verändert \n",
    "- diese Static Class Method kann angeben indem man einer normalen Methode in einer Klasse den jeweiligen Decorator einmal gibt \n",
    "- bei einer Static Methode haben keine vorgeschriebene Parameter (e.g. self) die wir übergeben müssen \n",
    "- bei normalen Methoden müssen wir self übergeben, bei der Static Method müssen wir teorethisch gar nichts übergeben. "
   ]
  },
  {
   "cell_type": "code",
   "execution_count": 3,
   "id": "c8d84b4b",
   "metadata": {},
   "outputs": [],
   "source": [
    "from time import localtime"
   ]
  },
  {
   "cell_type": "code",
   "execution_count": 4,
   "id": "4a2b0a38",
   "metadata": {},
   "outputs": [],
   "source": [
    "class Date:\n",
    "    def __init__(self, year, month, day):\n",
    "        self.year = year\n",
    "        self.month = month,\n",
    "        self.day = day\n",
    "\n",
    "    def __repr__(self):\n",
    "        return f\"{self.day}, {self.month}, {self.year}\"\n",
    "\n",
    "    def print_date(sefl):\n",
    "        print(sefl)\n",
    "\n",
    "    @classmethod\n",
    "    def get_todays_date(cls): # cls: variable, obtional wie es genannt wird, bezieht sich auf die class Date\n",
    "        date = cls.__new__(cls) # damit würden wir ein neues Objekt erstellen, intern __new__ Methode aufrufen\n",
    "        time = localtime()\n",
    "        date.year = time.tm_year\n",
    "        date.month = time.tm_mon\n",
    "        date.day = time.tm_mday\n",
    "        return date # return type eine Instanz der Date - Classe\n",
    "        # self: hier ist self nicht als Parameter angegeben, wichtig, weil wir hier keine Instanz verändern\n",
    "        # die könnte man sogar ausserhalb der Klasse packen, weil sie hier nichts verädert, lediglich\n",
    "        # ein paar Abfragen hat\n",
    "\n",
    "    @staticmethod\n",
    "    # hier haben wir auch kein self, weil wir hier auch weder die Instanz noch die Klasse verändern\n",
    "    def is_todays_date(date):\n",
    "        time = localtime()\n",
    "        if date.year == time.tm_year and date.tm_month == time.tm_mon and date.day == time.tm_mday:\n",
    "            return True\n",
    "        else:\n",
    "            return False"
   ]
  }
 ],
 "metadata": {
  "kernelspec": {
   "display_name": "base",
   "language": "python",
   "name": "python3"
  },
  "language_info": {
   "codemirror_mode": {
    "name": "ipython",
    "version": 3
   },
   "file_extension": ".py",
   "mimetype": "text/x-python",
   "name": "python",
   "nbconvert_exporter": "python",
   "pygments_lexer": "ipython3",
   "version": "3.12.9"
  }
 },
 "nbformat": 4,
 "nbformat_minor": 5
}

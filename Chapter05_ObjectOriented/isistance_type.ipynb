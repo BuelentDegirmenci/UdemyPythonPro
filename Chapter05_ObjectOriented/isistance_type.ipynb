{
 "cells": [
  {
   "cell_type": "code",
   "execution_count": 9,
   "id": "3f0f3317",
   "metadata": {},
   "outputs": [],
   "source": [
    "class A:\n",
    "    def __init__(self):\n",
    "        print(\"Init A Call!\")\n",
    "        self.a = 1\n",
    "\n",
    "class B(A):\n",
    "    def __init__(self):\n",
    "        super().__init__()\n",
    "        print(\"Init B called!\")\n",
    "        self.b = self.a * 2\n",
    "\n",
    "class C(A):\n",
    "    def __init__(self):\n",
    "        super().__init__()\n",
    "        self.c = self.a / 2\n",
    "\n",
    "class D(B, C):\n",
    "    def __init__(self):\n",
    "        super().__init__()\n",
    "        print(\"Init D called!\")"
   ]
  },
  {
   "cell_type": "code",
   "execution_count": 10,
   "id": "29db209c",
   "metadata": {},
   "outputs": [
    {
     "name": "stdout",
     "output_type": "stream",
     "text": [
      "Init A Call!\n",
      "Init A Call!\n",
      "Init B called!\n"
     ]
    }
   ],
   "source": [
    "a = A()\n",
    "b = B()"
   ]
  },
  {
   "cell_type": "code",
   "execution_count": 11,
   "id": "3d81826d",
   "metadata": {},
   "outputs": [
    {
     "data": {
      "text/plain": [
       "__main__.B"
      ]
     },
     "execution_count": 11,
     "metadata": {},
     "output_type": "execute_result"
    }
   ],
   "source": [
    "type(b)"
   ]
  },
  {
   "cell_type": "code",
   "execution_count": null,
   "id": "5f204620",
   "metadata": {},
   "outputs": [
    {
     "name": "stdout",
     "output_type": "stream",
     "text": [
      "equal\n"
     ]
    }
   ],
   "source": [
    "if type(b) == B:\n",
    "    print(\"equal\")\n",
    "else:\n",
    "    print(\"not equal\")\n"
   ]
  },
  {
   "cell_type": "code",
   "execution_count": 13,
   "id": "21c1a180",
   "metadata": {},
   "outputs": [
    {
     "name": "stdout",
     "output_type": "stream",
     "text": [
      "equal\n"
     ]
    }
   ],
   "source": [
    "if isinstance(b, B):\n",
    "    print(\"equal\")\n",
    "else:\n",
    "    print(\"not equal\")\n"
   ]
  },
  {
   "cell_type": "code",
   "execution_count": null,
   "id": "be36e1fd",
   "metadata": {},
   "outputs": [],
   "source": []
  }
 ],
 "metadata": {
  "kernelspec": {
   "display_name": "base",
   "language": "python",
   "name": "python3"
  },
  "language_info": {
   "codemirror_mode": {
    "name": "ipython",
    "version": 3
   },
   "file_extension": ".py",
   "mimetype": "text/x-python",
   "name": "python",
   "nbconvert_exporter": "python",
   "pygments_lexer": "ipython3",
   "version": "3.12.9"
  }
 },
 "nbformat": 4,
 "nbformat_minor": 5
}

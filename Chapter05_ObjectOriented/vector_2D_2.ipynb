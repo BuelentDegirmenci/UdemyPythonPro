{
 "cells": [
  {
   "cell_type": "code",
   "execution_count": 63,
   "id": "4cb2ef0c",
   "metadata": {},
   "outputs": [],
   "source": [
    "from math import sqrt\n",
    "import numbers\n",
    "from functools import total_ordering\n",
    "\n",
    "# Erben tut die Klasse 2D nichts.\n",
    "# Man kann auch die Dekorator Functions an Klassen übergeben\n",
    "@total_ordering\n",
    "class Vector2D:\n",
    "    def __init__(self, x=0.0, y=0.0):\n",
    "        if isinstance(x, numbers.Real) and isinstance(y, numbers.Real):\n",
    "            self.x = x\n",
    "            self.y = y\n",
    "        else:  # Es muss ein else Fall sein, sonst er immer triggern würde\n",
    "            raise TypeError(\"You must pass in int or float values for x or y!\")\n",
    "\n",
    "    # Eine Exception rausschmeißen wenn x oder y keine Zahl ist\n",
    "\n",
    "\n",
    "    # __call__ funktion ist dafür da, wenn wir ein Objekt später nochmal aufrufen wollen\n",
    "    # d.h. auf das Objekt würden wir den runden Klammernpaar, intern die call methode einmal aufrufen\n",
    "    def __call__(self, *args, **kwds):\n",
    "        print(\"Calling the __call__ method!\")\n",
    "\n",
    "    def __repr__(self): # wenn wir ein Objekt printen wollen, returnt ein String\n",
    "        return f\"vector.Vector2D({self.x}, {self.y})\"\n",
    "\n",
    "    def __str__(self): # wenn wir ein Objekt zu einem String casten wollen, returnt ein String\n",
    "        return f\"({self.x}, {self.y})\"\n",
    "\n",
    "    def __abs__(self):\n",
    "        return sqrt(pow(self.x, 2), pow(self.y, 2))\n",
    "\n",
    "    # other_vector: da wir beim equal unsere eigene Objektinstanz mit einem anderen Objekt vergleichen wollen\n",
    "    # deshalb kommt dieser Parameter neben dem self mit in eq methode rein\n",
    "    # wo wir schauen ob x, y werte gleich sind\n",
    "    # other_vector muss auch ein 2D Ojbekt sein, weil es sonst nicht gehen würde\n",
    "    def __eq__(self, other_vector):\n",
    "        if not isinstance(other_vector, Vector2D):\n",
    "            raise TypeError(\"You pass in Vector to the Instance!\")\n",
    "        return self.x == other_vector.x and self.y == other_vector.y # dann liegen alle Werte gleich vor\n",
    "\n",
    "    def __lt__(self, other_vector): # bei den Vector macht es eigentlich gar keinen Sinn\n",
    "        # return self.x < other_vector.x and self.y < other_vector.y alternativ\n",
    "        if not isinstance(other_vector, Vector2D):\n",
    "            raise TypeError(\"You pass in Vector to the Instance!\")\n",
    "        return (self.x, self.y) < (other_vector.x, other_vector.y)\n",
    "\n",
    "    def __add__(self, other_vector):\n",
    "        if not isinstance(other_vector, Vector2D):\n",
    "            raise TypeError(\"You pass in Vector to the Instance!\")\n",
    "        x = self.x + other_vector.x\n",
    "        y = self.y + other_vector.y\n",
    "        return Vector2D(x, y)\n",
    "\n",
    "    def __sub__(self, other_vector):\n",
    "        if not isinstance(other_vector, Vector2D):\n",
    "            raise TypeError(\"You pass in Vector to the Instance!\")\n",
    "        x = self.x - other_vector.x\n",
    "        y = self.y - other_vector.y\n",
    "        return Vector2D(x, y)\n",
    "\n",
    "    # mul: wir multiplizieren entweder mit einer Zahl oder mit einem Vector --> Abfragen\n",
    "    def __mul__(self, other):\n",
    "        if isinstance(other, Vector2D): # d.h. wenn dieses other ein 2D Objekt ist, dann\n",
    "            result = self.x * other.x + self.y * other.y\n",
    "            return result\n",
    "        if not isinstance(other, numbers.Real):\n",
    "            raise TypeError(\"You pass in Vector to the Instance!\")\n",
    "        return Vector2D(self.x * other, self.y * other)\n",
    "\n",
    "    def __truediv__(self, other):\n",
    "        if not isinstance(other, numbers.Real):\n",
    "            raise TypeError(\"You pass in Vector to the Instance!\")\n",
    "        return Vector2D(self.x / other, self.y / other)"
   ]
  },
  {
   "cell_type": "code",
   "execution_count": 64,
   "id": "b78af4f2",
   "metadata": {},
   "outputs": [
    {
     "name": "stdout",
     "output_type": "stream",
     "text": [
      "vector.Vector2D(1, 1)\n",
      "(1, 1)\n",
      "\n",
      "vector.Vector2D(-1, -1)\n",
      "(-1, -1)\n",
      " \n",
      "(0, 0)\n",
      "-2\n",
      "(0.2, 0.2)\n",
      "(-0.3333333333333333, -0.3333333333333333)\n",
      " \n",
      "False\n",
      "True\n",
      "False\n",
      "True\n"
     ]
    }
   ],
   "source": [
    "# Erstellen wir ein Objekt davon:\n",
    "\n",
    "v1 = Vector2D(1, 1)\n",
    "v2 = Vector2D(-1, -1)\n",
    "\n",
    "print(repr(v1))\n",
    "print(str(v1))\n",
    "print(\"\")\n",
    "print(repr(v2))\n",
    "print(str(v2))\n",
    "print(\" \")\n",
    "print(v1 + v2)\n",
    "print(v1 * v2)\n",
    "print(v1 / 5.0)\n",
    "print(v2 / 3.0)\n",
    "print(\" \")\n",
    "print(v1 < v2)\n",
    "print(v1 > v2)\n",
    "print(v1 == v2)\n",
    "print(v1 != v2)\n"
   ]
  },
  {
   "cell_type": "code",
   "execution_count": 66,
   "id": "c820967d",
   "metadata": {},
   "outputs": [
    {
     "name": "stdout",
     "output_type": "stream",
     "text": [
      "Exception Error: You must pass in int or float values for x or y!\n"
     ]
    },
    {
     "data": {
      "text/plain": [
       "vector.Vector2D(1, 1)"
      ]
     },
     "execution_count": 66,
     "metadata": {},
     "output_type": "execute_result"
    }
   ],
   "source": [
    "try:\n",
    "    v3 = Vector2D(1, \"1\")\n",
    "except TypeError as e:\n",
    "    print(f\"Exception Error: {e}\")\n",
    "    v3 = Vector2D(0, 0)\n",
    "v1 + v3 # können wir nach dieser Exception ausführen"
   ]
  },
  {
   "cell_type": "code",
   "execution_count": null,
   "id": "c8b112a2",
   "metadata": {},
   "outputs": [],
   "source": []
  }
 ],
 "metadata": {
  "kernelspec": {
   "display_name": "base",
   "language": "python",
   "name": "python3"
  },
  "language_info": {
   "codemirror_mode": {
    "name": "ipython",
    "version": 3
   },
   "file_extension": ".py",
   "mimetype": "text/x-python",
   "name": "python",
   "nbconvert_exporter": "python",
   "pygments_lexer": "ipython3",
   "version": "3.12.9"
  }
 },
 "nbformat": 4,
 "nbformat_minor": 5
}

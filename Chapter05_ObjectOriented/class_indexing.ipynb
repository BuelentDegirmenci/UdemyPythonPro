{
 "cells": [
  {
   "cell_type": "markdown",
   "id": "85eca566",
   "metadata": {},
   "source": [
    "Mutable: wir können was verändern\n",
    "Folgende Methoden sind die Mindest-Methoden, wenn wir ein Objekt aus der MutableSequence erstellen können.  \n",
    "Generell wenn man ein Problem hat, kann man Abstract Base Classes nehmen \n",
    "Siehe docs.python.org/3/library/collections.abc.html \n",
    "Auf dieser Seite sieht, d.h. wenn man einen Iterator implementieren möchte, dann braucht man __next__ und __iter__\n"
   ]
  },
  {
   "cell_type": "code",
   "execution_count": null,
   "id": "922aa6ab",
   "metadata": {},
   "outputs": [],
   "source": [
    "from collections.abc import MutableSequence\n",
    "\n",
    "# wir wollen eine Klasse implementieren und wollen MutableSequenz erben\n",
    "\n",
    "\n",
    "class MyOwnList(MutableSequence):\n",
    "    def __init__(self, values=None):\n",
    "        super().__init__()\n",
    "        if values:\n",
    "            self._values = values\n",
    "        else:\n",
    "            self._values = []\n",
    "\n",
    "    def __str__(self):\n",
    "        return str(self._values)\n",
    "\n",
    "    def __len__(self):\n",
    "        return len(self._values)\n",
    "\n",
    "    def __getitem__(self, idx):\n",
    "        return self._values[idx]\n",
    "\n",
    "    def __setitem__(self, idx, val):\n",
    "        self._values[idx] = val\n",
    "\n",
    "    def __delitem__(self, idx):\n",
    "        del self._values[idx]\n",
    "\n",
    "    def insert(self, idx, val):\n",
    "        self._values.insert(idx, val)\n",
    "\n",
    "    def append(self, val):\n",
    "        self._values.append(val)\n",
    "\n",
    "\n",
    "try:\n",
    "    l = MyOwnList()\n",
    "except TypeError as e:\n",
    "    print(e)"
   ]
  },
  {
   "cell_type": "code",
   "execution_count": 17,
   "id": "d4ada2e2",
   "metadata": {},
   "outputs": [
    {
     "name": "stdout",
     "output_type": "stream",
     "text": [
      "[1, 2, 3]\n",
      "3\n"
     ]
    }
   ],
   "source": [
    "my_list = MyOwnList([1, 2, 3, ])\n",
    "print(my_list)\n",
    "print(len(my_list))"
   ]
  },
  {
   "cell_type": "code",
   "execution_count": 18,
   "id": "38a89692",
   "metadata": {},
   "outputs": [
    {
     "name": "stdout",
     "output_type": "stream",
     "text": [
      "1\n"
     ]
    }
   ],
   "source": [
    "print(my_list[0])\n",
    "my_list[0] = \"Hello\""
   ]
  },
  {
   "cell_type": "code",
   "execution_count": null,
   "id": "c27f9081",
   "metadata": {},
   "outputs": [],
   "source": []
  }
 ],
 "metadata": {
  "kernelspec": {
   "display_name": "base",
   "language": "python",
   "name": "python3"
  },
  "language_info": {
   "codemirror_mode": {
    "name": "ipython",
    "version": 3
   },
   "file_extension": ".py",
   "mimetype": "text/x-python",
   "name": "python",
   "nbconvert_exporter": "python",
   "pygments_lexer": "ipython3",
   "version": "3.9.7"
  }
 },
 "nbformat": 4,
 "nbformat_minor": 5
}

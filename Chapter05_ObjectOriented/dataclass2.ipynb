{
 "cells": [
  {
   "cell_type": "code",
   "execution_count": 5,
   "id": "3e433a56",
   "metadata": {},
   "outputs": [
    {
     "name": "stdout",
     "output_type": "stream",
     "text": [
      "<__main__.User object at 0x0000018BA2ECE4D0>\n"
     ]
    }
   ],
   "source": [
    "from dataclasses import dataclass\n",
    "from dataclasses import field\n",
    "\n",
    "\n",
    "class User:\n",
    "    def __init__(self, name: str, age: int):\n",
    "        self.name = name\n",
    "        self.age = age\n",
    "\n",
    "\n",
    "u = User(\"jan\", 27) # Ein Objekt erstellen\n",
    "print(u)"
   ]
  },
  {
   "cell_type": "code",
   "execution_count": 2,
   "id": "d626ef9a",
   "metadata": {},
   "outputs": [
    {
     "name": "stdout",
     "output_type": "stream",
     "text": [
      "User(name='Jan', age=27)\n",
      "{'name': 'Jan', 'age': 27}\n"
     ]
    }
   ],
   "source": [
    "# die Klasse oben kann durch den Dektorator @dataclass finer erstellen\n",
    "@dataclass\n",
    "class User:\n",
    "    name: str\n",
    "    age: int\n",
    "\n",
    "\n",
    "u1 = User(\"Jan\", 27)\n",
    "print(u1)\n",
    "print(u1.__dict__) # __dict__: dynamisches Hinzufügen von Attributen, also durch __dict__  braucht mehr Speicher und Rechenzeit"
   ]
  },
  {
   "cell_type": "code",
   "execution_count": 3,
   "id": "5d70dadb",
   "metadata": {},
   "outputs": [],
   "source": [
    "@dataclass(slots=True)\n",
    "class User3:\n",
    "    name: str  # Typer notation\n",
    "    age: int\n",
    "    is_active: bool = False\n",
    "    orders: list[float] = field(default_factory=list, compare=False, hash=False, repr=False)\n",
    "\n",
    "    def method(self):\n",
    "        print(self.name)"
   ]
  },
  {
   "cell_type": "code",
   "execution_count": 4,
   "id": "6a0a0af2",
   "metadata": {},
   "outputs": [],
   "source": [
    "# Niemals mutuable types bei irgendwas nehmen"
   ]
  },
  {
   "cell_type": "code",
   "execution_count": null,
   "id": "d5a1f7b0",
   "metadata": {},
   "outputs": [],
   "source": []
  }
 ],
 "metadata": {
  "kernelspec": {
   "display_name": "py311",
   "language": "python",
   "name": "python3"
  },
  "language_info": {
   "codemirror_mode": {
    "name": "ipython",
    "version": 3
   },
   "file_extension": ".py",
   "mimetype": "text/x-python",
   "name": "python",
   "nbconvert_exporter": "python",
   "pygments_lexer": "ipython3",
   "version": "3.11.13"
  }
 },
 "nbformat": 4,
 "nbformat_minor": 5
}

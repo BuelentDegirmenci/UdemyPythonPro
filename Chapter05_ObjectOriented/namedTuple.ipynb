{
 "cells": [
  {
   "cell_type": "markdown",
   "id": "fa116d78",
   "metadata": {},
   "source": [
    "- Ein Named Tuple is \n",
    "  - immutable\n",
    "  - hashable \n",
    "  - __repr__, _-str__ and copare defined \n",
    "  - Support Index \n",
    "- wenn die Instanz einmal definiert ist, dann ist es wie in Stein gemeißelt weil es immutable ist  "
   ]
  },
  {
   "cell_type": "markdown",
   "id": "3bd02d8e",
   "metadata": {},
   "source": []
  },
  {
   "cell_type": "markdown",
   "id": "a4396523",
   "metadata": {},
   "source": []
  },
  {
   "cell_type": "code",
   "execution_count": 3,
   "id": "940f1d84",
   "metadata": {},
   "outputs": [
    {
     "name": "stdout",
     "output_type": "stream",
     "text": [
      "User(firstname='Jan', lastname='Schaffraneck', birthday='24.02.1994')\n",
      "<bound method User.__repr__ of User(firstname='Jan', lastname='Schaffraneck', birthday='24.02.1994')>\n",
      "<method-wrapper '__str__' of User object at 0x000001F84C585CB0>\n",
      "Jan\n"
     ]
    }
   ],
   "source": [
    "from collections import namedtuple\n",
    "# from pprint import pprint\n",
    "\n",
    "User = namedtuple(\n",
    "    'User',\n",
    "    ['firstname', 'lastname', 'birthday']\n",
    ")\n",
    "\n",
    "user_jan = User(\n",
    "    firstname='Jan',\n",
    "    lastname='Schaffraneck',\n",
    "    birthday='24.02.1994'\n",
    ")\n",
    "\n",
    "print(user_jan)\n",
    "print(user_jan.__repr__)\n",
    "print(user_jan.__str__)\n",
    "print(user_jan.firstname)"
   ]
  },
  {
   "cell_type": "code",
   "execution_count": null,
   "id": "8a75d544",
   "metadata": {},
   "outputs": [],
   "source": []
  }
 ],
 "metadata": {
  "kernelspec": {
   "display_name": "py311",
   "language": "python",
   "name": "python3"
  },
  "language_info": {
   "codemirror_mode": {
    "name": "ipython",
    "version": 3
   },
   "file_extension": ".py",
   "mimetype": "text/x-python",
   "name": "python",
   "nbconvert_exporter": "python",
   "pygments_lexer": "ipython3",
   "version": "3.11.13"
  }
 },
 "nbformat": 4,
 "nbformat_minor": 5
}

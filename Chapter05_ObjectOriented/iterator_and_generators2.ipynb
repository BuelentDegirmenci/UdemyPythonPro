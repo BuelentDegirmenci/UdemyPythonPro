{
 "cells": [
  {
   "cell_type": "markdown",
   "id": "e3855e02",
   "metadata": {},
   "source": [
    "# Iterator"
   ]
  },
  {
   "cell_type": "code",
   "execution_count": 57,
   "id": "780aae15",
   "metadata": {},
   "outputs": [
    {
     "name": "stdout",
     "output_type": "stream",
     "text": [
      "1\n",
      "2\n",
      "3\n",
      "4\n",
      " \n",
      "<list_iterator object at 0x0000017C89622250> <class 'list_iterator'>\n",
      " \n",
      "1\n",
      "2\n",
      "3\n",
      "4\n",
      "\n"
     ]
    }
   ],
   "source": [
    "my_list = [1, 2, 3, 4]\n",
    "\n",
    "\n",
    "for val in my_list:\n",
    "    print(val)\n",
    "\n",
    "print(\" \")\n",
    "\n",
    "my_iter = iter(my_list)\n",
    "\n",
    "print(my_iter, type(my_iter))\n",
    "print(\" \")\n",
    "print(next(my_iter))\n",
    "print(next(my_iter))\n",
    "print(next(my_iter))\n",
    "print(next(my_iter))\n",
    "\n",
    "try:\n",
    "    print(next(my_iter))\n",
    "    print(next(my_iter))\n",
    "except Exception as e:\n",
    "    print(e)"
   ]
  },
  {
   "cell_type": "markdown",
   "id": "013d176a",
   "metadata": {},
   "source": [
    "Wie funktioninert die Iteration unter der Haube? \n",
    "Erst müssen wir ein Iterationsobjekt erstellen, in dem man iter() Funktion aufruft, die fest in der Sprache eingebaut ist.\n",
    "Dieser iter() Funktion ist ein Objekt, ein Objekt übergibt, welches iterierbar ist, welche Methoden von einer Klasse bereitgestellt werden müssen,\n",
    "damit es ein iterierbares Objekt ist, kriegen wir bei  my_iter = iter(my_list) ein Iterationsobjekt zurück. \n",
    "Das ist ein List-Iterator. \n",
    "Wenn wir ein objekt my_iter = iter(my_list) erstellt, zeigt es erst auf gar nichts. Erst mit der next() Funktion wird auf das nächste Objekt gezeigt. \n",
    "\n"
   ]
  },
  {
   "cell_type": "markdown",
   "id": "3b303eb2",
   "metadata": {},
   "source": [
    "Definition unserer eigenen Klasse PowerOfTwo, die iterierbar ist. \n",
    "wir brauchen dafür __iter__ und __next__ Methoden. \n",
    "Die Klasse berechnet die Potenzen von 2 solange wir iterieren. \n",
    "\n"
   ]
  },
  {
   "cell_type": "code",
   "execution_count": 58,
   "id": "ee26f839",
   "metadata": {},
   "outputs": [],
   "source": [
    "class PowerOfTwo:\n",
    "    def __init__(self, N):\n",
    "        self.N = N\n",
    "        # hier im Konstruktor speichern wir maximale zweier Potenz N ab.\n",
    "        # in jeder Iteration geben ein der Werte von 2^0 ...2^N ausgeben.\n",
    "        # damit wir dieses Interface bieten, damit es iterierbar ist,\n",
    "        # brauchen wir die Methodnen __iter__() und __next()__\n",
    "        # __iter()__: um das Objekt an das Build Iter-Funktion (p_iter = iter(p)) zu übergeben,\n",
    "        # um ein Iterationsobjekt zu erhalten.\n",
    "        # __next()__: \n",
    "\n",
    "    def __iter__(self):\n",
    "        self.current_n = 0  # Speichern wir eine aktuellel Zählervariable ab, welche ich in der nächsen Methode __next()__ verwende.\n",
    "        # __iter()__: start up Methode, die man bei der nächsten Methode braucht. \n",
    "        return self\n",
    "        # hier returnen wir self, was wichtig ist.\n",
    "\n",
    "    def __next__(self):\n",
    "        if self.current_n <= self.N:\n",
    "            # solange self.current <= self.N der oberen Grenze ist, möchte ich weiter iterieren,\n",
    "            # solange habe ich mein Iterationsobjekt nicht ausgeschöpft\n",
    "            current_result = 2 ** self.current_n # dann rechnen wir hier 2^n aus,\n",
    "            self.current_n += 1 # setzen Zählervariable höher\n",
    "            # wenn wir die Zählervariable nicht höher setzen, dann würde diese if - Abfrage immer triggern, \n",
    "            # wir würden dann niemals in das else- reikommen und würden niemals StopIteration raisen. \n",
    "            return current_result\n",
    "        else:\n",
    "            raise StopIteration\n",
    "        # wennw ir einen Iterator haben, der nicht unendlich iterieren kann, sondern irgendwann mal stoppen muss, dann müssen wir ab einer \n",
    "        # gewissen Stelle eine bestimmte exception schmeissen, das ist die StopIteration. Das ist fest vordefiniert, dass es StopIteration \n",
    "        # sein muss. Damit wir eine Abbruchbedingung haben, wann die Iteration beendet werden soll\n"
   ]
  },
  {
   "cell_type": "code",
   "execution_count": 59,
   "id": "960acd5e",
   "metadata": {},
   "outputs": [
    {
     "name": "stdout",
     "output_type": "stream",
     "text": [
      "1\n",
      "2\n",
      "4\n",
      "8\n",
      "16\n",
      "32\n",
      "64\n",
      "128\n",
      "256\n",
      "512\n",
      "1024\n"
     ]
    }
   ],
   "source": [
    "# hier erstellen wir ein Objekt der Klasse PowerOfTwo Klasse\n",
    "p = PowerOfTwo(10)\n",
    "p_iter = iter(p)\n",
    "\n",
    "\n",
    "# wir müssen gar nicht in p_iter = iter(p) reingehen, mit der for -Schleife würden wir dann unter der Haube \n",
    "# würden iter und next wervendet werden. \n",
    "for i in p:\n",
    "    print(i)"
   ]
  },
  {
   "cell_type": "code",
   "execution_count": 60,
   "id": "5433cc39",
   "metadata": {},
   "outputs": [
    {
     "name": "stdout",
     "output_type": "stream",
     "text": [
      "[1, 2, 4, 8, 16, 32, 64, 128, 256, 512, 1024]\n"
     ]
    }
   ],
   "source": [
    "power_of_twos = [power for power in PowerOfTwo(10)]\n",
    "print(power_of_twos)"
   ]
  },
  {
   "cell_type": "markdown",
   "id": "d073b62c",
   "metadata": {},
   "source": [
    "# Generatoren\n",
    "Von der Idee ist es ähnlich wie zu dem Iterator, wobei der Iterator eine Klasse ist, die wir implementieren.  \n",
    "Generator ist eine Funktion, die lasy ist, eine  lays Funktion  führt dann nur etwas aus, wenn sie wiedermal aufgerufen wurde\n",
    "und das gibt man durch das keyword yield an. \n",
    "\n",
    "- Um so komplexer das Beispiel ist, um so nimmt man Iterator, um so einfacher das Beispiel ist, um so eher nimmt nan Generator Funktion. "
   ]
  },
  {
   "cell_type": "markdown",
   "id": "2eb812c9",
   "metadata": {},
   "source": [
    "def PowerOfTwoGenerator(N):\n",
    "    current_n = 0\n",
    "    while current_n <= N:\n",
    "        yield 2 ** current_n\n",
    "        current_n += 1\n",
    "\n",
    "current_n = 0 ist die Zählervariable, die im gesamenten Codeverlauf besteht, für den gesamten Lauf des Programms besteht sie. \n",
    "wenn wir das generator objekt g = g = PowerOfTwoGenerator()  mehrmals aufrufen, fangen wir nicht wieder bei current_n = 0 sondern,  \n",
    "machen wir da weiter wo der letzte Wert beschrieben wurde. \n",
    "wenn wir nicht in die While Schleife, dann verhält sich der Code wie die eception raise StopIteration oben. \n",
    "yield: ist wie das return. Bei einer Funktion, wo wir yielden, haben wir schon eine Genetatorfunktion  \n",
    "und diese Generatorfunktion kann mehrmals aufgerufen werden, d.h. wir haben mehrmals einen Wert den wir zurückgeben würden, jedoch unterschiedliche Werte. \n",
    "wir fangen bei current_n = 0 an, d.h. am Anfang würden wir 2^0 yielden, ... \n",
    "d.h. bei einer Generatorfunktion, die durch yield Rückgaben macht, gekennzeichnet wird, hätten wir return, dann wäre es keine Generatorfunktion \n",
    "Durch Generator können wir es mehrmals aufrufen und der interne State von der internen Ausführung bleibt bestehen. \n",
    "\n",
    "current_n = 0 wird beim aller ersten Mal ausgeführt, danach nehmen wir den Wert den wir vorher schon hatten.\n",
    "deswegen wenn wir über die for-Schleife iterieren, dann würden die richtigen Ergebnisse rauskommen. \n",
    "for i in g:\n",
    "    print(i)\n",
    "\n",
    "In dem Sinne ist es kürzer und präziser als Iteratoren "
   ]
  },
  {
   "cell_type": "code",
   "execution_count": null,
   "id": "28341bd4",
   "metadata": {},
   "outputs": [],
   "source": []
  },
  {
   "cell_type": "code",
   "execution_count": 61,
   "id": "66022769",
   "metadata": {},
   "outputs": [
    {
     "name": "stdout",
     "output_type": "stream",
     "text": [
      "1\n",
      "2\n",
      "4\n",
      "8\n",
      "16\n",
      "32\n",
      "64\n",
      "128\n",
      "256\n",
      "512\n",
      "1024\n"
     ]
    }
   ],
   "source": [
    "def PowerOfTwoGenerator(N):\n",
    "    current_n = 0\n",
    "    while current_n <= N:\n",
    "        yield 2 ** current_n\n",
    "        current_n += 1\n",
    "\n",
    "g = PowerOfTwoGenerator(10)\n",
    "\n",
    "for i in g:\n",
    "    print(i)"
   ]
  },
  {
   "cell_type": "markdown",
   "id": "5116444c",
   "metadata": {},
   "source": [
    "# Zyklisch über eine Liste iterieren#\n",
    "d.h. "
   ]
  },
  {
   "cell_type": "code",
   "execution_count": 62,
   "id": "d93a52cc",
   "metadata": {},
   "outputs": [
    {
     "name": "stdout",
     "output_type": "stream",
     "text": [
      "['Jan', 'Amar', 'Pierre', 'Mostafa']\n"
     ]
    }
   ],
   "source": [
    "class NamesItertor:\n",
    "    def __init__(self, names):\n",
    "        self.names = names\n",
    "        self.num_names = len(self.names)\n",
    "        self.current_n = 0\n",
    "\n",
    "    def __iter__(self):\n",
    "        self.current_n = 0\n",
    "        return self\n",
    "\n",
    "    def __next__(self):\n",
    "        if self.current_n > self.num_names:\n",
    "            current_result = self.names[self.current_n]\n",
    "            self.current_n += 1\n",
    "            return current_result\n",
    "        else:\n",
    "            self.current_n = 0\n",
    "            current_result = self.names[self.current_n]\n",
    "            self.current_n += 1\n",
    "            return current_result\n",
    "\n",
    "\n",
    "names = [\"Jan\", \"Amar\", \"Pierre\", \"Mostafa\"]\n",
    "print(names)"
   ]
  },
  {
   "cell_type": "code",
   "execution_count": 63,
   "id": "3c25f176",
   "metadata": {},
   "outputs": [
    {
     "name": "stdout",
     "output_type": "stream",
     "text": [
      "Jan\n",
      "Jan\n",
      "Jan\n",
      "Jan\n",
      "Jan\n",
      "Jan\n",
      "Jan\n"
     ]
    }
   ],
   "source": [
    "names = [\"Jan\", \"Amar\", \"Pierre\"]\n",
    "my_iterator = NamesItertor(names)\n",
    "for i in range(7):\n",
    "    print(next(my_iterator))"
   ]
  },
  {
   "cell_type": "code",
   "execution_count": null,
   "id": "aede0d88",
   "metadata": {},
   "outputs": [],
   "source": []
  }
 ],
 "metadata": {
  "kernelspec": {
   "display_name": "base",
   "language": "python",
   "name": "python3"
  },
  "language_info": {
   "codemirror_mode": {
    "name": "ipython",
    "version": 3
   },
   "file_extension": ".py",
   "mimetype": "text/x-python",
   "name": "python",
   "nbconvert_exporter": "python",
   "pygments_lexer": "ipython3",
   "version": "3.9.7"
  }
 },
 "nbformat": 4,
 "nbformat_minor": 5
}

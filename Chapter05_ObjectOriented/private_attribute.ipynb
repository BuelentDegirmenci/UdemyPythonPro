{
 "cells": [
  {
   "cell_type": "code",
   "execution_count": 29,
   "id": "b0fbf4bd",
   "metadata": {},
   "outputs": [],
   "source": [
    "from functools import cached_property\n",
    "# Standard Klasse, wie man es auch in den anderen Sprachen gemacht hätte\n",
    "class User:\n",
    "    def __init__(self, name, user_id):\n",
    "        self._name = name\n",
    "        self._user_id = user_id\n",
    "\n",
    "    def __repr__(self):\n",
    "        return f\"{self._name}, {self._user_id}\"\n",
    "\n",
    "    def get_name(self):\n",
    "        return self._name\n",
    "\n",
    "    def set_name(self, new_name):\n",
    "        self._name = new_name\n",
    "\n",
    "    def del_name(self, new_name):\n",
    "        self._name = \"\"\n"
   ]
  },
  {
   "cell_type": "code",
   "execution_count": 30,
   "id": "b045108a",
   "metadata": {},
   "outputs": [],
   "source": [
    "class User:\n",
    "    def __init__(self, name, user_id):\n",
    "        # _name: Unterstrich symbolisiert private, die Funktion kann von außen nicht aufgerufen werden\n",
    "        # die getter Funktion unten (@property) kann von außen aufgerufen werden, sie hat den Namen name, darüber kann\n",
    "        # sie aufgerufen werden\n",
    "        self._name = name\n",
    "        self._user_id = user_id\n",
    "\n",
    "    def __repr__(self):\n",
    "        return f\"{self._name}, {self._user_id}\"\n",
    "\n",
    "    @property # wenn ich einen getter erstellen will, fängt es damit an\n",
    "    # die Methode heißt genauso wie der Attributename nach außen weiter gegeben werdne soll\n",
    "    # public name : name\n",
    "    # private name: _name\n",
    "    def name(self):\n",
    "        return self._name\n",
    "\n",
    "    # weil wir mit dem name beim getter oben angefangen haben, müssen wir unten entsrechend mit dem name vorgehen.\n",
    "    # die Public-Variable \"name\" ist hier freigewähl, wir hätten first_name auch wählen können. dann müssten wir setter und deletter\n",
    "    # ebenfalls mit first_name initalisieren\n",
    "    # was man im setter und deletter macht, ist einem freigestellt\n",
    "    # hier wird beim setter der Wert upgedatet\n",
    "    # man muss setter und deletter nicht implementieren, jedoch kann man sie nur dann implementiert erst wenn ein\n",
    "    # getter implementiert ist, die Bedingung unter der Haube\n",
    "    @name.setter\n",
    "    def name(self, new_name):\n",
    "        self._name = new_name\n",
    "\n",
    "    @name.deleter\n",
    "    def name(self):\n",
    "        self._name = \"\""
   ]
  },
  {
   "cell_type": "code",
   "execution_count": 31,
   "id": "4b4d4679",
   "metadata": {},
   "outputs": [
    {
     "name": "stdout",
     "output_type": "stream",
     "text": [
      "jan, 123\n",
      "Peter, 123\n"
     ]
    }
   ],
   "source": [
    "u1 = User(\"jan\", 123)\n",
    "print(u1)\n",
    "u1.name = \"Peter\"\n",
    "print(u1)"
   ]
  },
  {
   "cell_type": "code",
   "execution_count": null,
   "id": "787bfb30",
   "metadata": {},
   "outputs": [],
   "source": []
  }
 ],
 "metadata": {
  "kernelspec": {
   "display_name": "base",
   "language": "python",
   "name": "python3"
  },
  "language_info": {
   "codemirror_mode": {
    "name": "ipython",
    "version": 3
   },
   "file_extension": ".py",
   "mimetype": "text/x-python",
   "name": "python",
   "nbconvert_exporter": "python",
   "pygments_lexer": "ipython3",
   "version": "3.12.9"
  }
 },
 "nbformat": 4,
 "nbformat_minor": 5
}

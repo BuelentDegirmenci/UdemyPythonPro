{
 "cells": [
  {
   "cell_type": "code",
   "execution_count": 2,
   "id": "36fd3e06",
   "metadata": {},
   "outputs": [],
   "source": [
    "from pprint import pformat\n",
    "from typing import Any"
   ]
  },
  {
   "cell_type": "code",
   "execution_count": null,
   "id": "bf64efa2",
   "metadata": {},
   "outputs": [],
   "source": [
    "def betterrepr(cls: Any) -> Any:\n",
    "    \"\"\"improve resentation of a class\"\"\"\n",
    "    def custom_repr(self):\n",
    "        return(\n",
    "            f\"Instance of {type(self).__name__}, vars = {pformat(vars(self))}\"\n",
    "        )\n",
    "\n",
    "    cls.__repr__=custom_repr\n",
    "\n",
    "    return cls"
   ]
  },
  {
   "cell_type": "code",
   "execution_count": 4,
   "id": "4fcf235d",
   "metadata": {},
   "outputs": [],
   "source": [
    "@betterrepr\n",
    "class MyClass:\n",
    "    def __init__(self, instance_variable: str) -> None:\n",
    "        print(\"Init the Instance\")\n",
    "        self.instance_variable = instance_variable"
   ]
  },
  {
   "cell_type": "code",
   "execution_count": null,
   "id": "1add4927",
   "metadata": {},
   "outputs": [],
   "source": []
  }
 ],
 "metadata": {
  "kernelspec": {
   "display_name": "base",
   "language": "python",
   "name": "python3"
  },
  "language_info": {
   "codemirror_mode": {
    "name": "ipython",
    "version": 3
   },
   "file_extension": ".py",
   "mimetype": "text/x-python",
   "name": "python",
   "nbconvert_exporter": "python",
   "pygments_lexer": "ipython3",
   "version": "3.12.9"
  }
 },
 "nbformat": 4,
 "nbformat_minor": 5
}

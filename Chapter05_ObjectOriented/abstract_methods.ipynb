{
 "cells": [
  {
   "cell_type": "code",
   "execution_count": 4,
   "id": "f9014f4b",
   "metadata": {},
   "outputs": [],
   "source": [
    "import abc  # a: abstract, b: base, c: class\n",
    "import math\n",
    "\n",
    "# Base: ist freigewählt\n",
    "class Base(metaclass=abc.ABCMeta):\n",
    "    @abc.abstractmethod\n",
    "    def m1(self):\n",
    "        return\n",
    "\n",
    "    @staticmethod\n",
    "    @abc.abstractmethod\n",
    "    def m2(self):\n",
    "        return\n",
    "\n",
    "    @classmethod\n",
    "    @abc.abstractmethod\n",
    "    def m3(cls):\n",
    "        return"
   ]
  },
  {
   "cell_type": "code",
   "execution_count": null,
   "id": "23bcece8",
   "metadata": {},
   "outputs": [],
   "source": []
  }
 ],
 "metadata": {
  "kernelspec": {
   "display_name": "base",
   "language": "python",
   "name": "python3"
  },
  "language_info": {
   "codemirror_mode": {
    "name": "ipython",
    "version": 3
   },
   "file_extension": ".py",
   "mimetype": "text/x-python",
   "name": "python",
   "nbconvert_exporter": "python",
   "pygments_lexer": "ipython3",
   "version": "3.12.9"
  }
 },
 "nbformat": 4,
 "nbformat_minor": 5
}

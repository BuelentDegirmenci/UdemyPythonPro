{
 "cells": [
  {
   "cell_type": "code",
   "execution_count": 1,
   "id": "33ba15f8",
   "metadata": {},
   "outputs": [
    {
     "name": "stdout",
     "output_type": "stream",
     "text": [
      "False\n",
      "The color is RED\n"
     ]
    }
   ],
   "source": [
    "from enum import Enum\n",
    "from enum import IntEnum\n",
    "from enum import auto\n",
    "\n",
    "\n",
    "class Colors(Enum):\n",
    "    RED = 1\n",
    "    GREEN = 2\n",
    "    BLUE = 3\n",
    "\n",
    "\n",
    "color = Colors.RED\n",
    "print(issubclass(Colors, int))\n",
    "\n",
    "\n",
    "if (color == Colors.RED):\n",
    "    print(\"The color is RED\")\n",
    "\n",
    "if (color == Colors.GREEN):\n",
    "    print(\"The color is RED\")\n",
    "\n",
    "if (color == Colors.BLUE):\n",
    "    print(\"The color is RED\")"
   ]
  },
  {
   "cell_type": "code",
   "execution_count": null,
   "id": "226759f1",
   "metadata": {},
   "outputs": [
    {
     "name": "stdout",
     "output_type": "stream",
     "text": [
      "True\n"
     ]
    }
   ],
   "source": [
    "class Colors2(IntEnum):\n",
    "    RED = 1\n",
    "    GREEN = 2\n",
    "    BLUE = 3\n",
    "\n",
    "\n",
    "color2 = Colors2.RED\n",
    "print(issubclass(Colors2, int))\n",
    "\n",
    "if (color == Colors2.RED):\n",
    "    print(\"The color is RED\")\n",
    "\n",
    "if (color == Colors2.GREEN):\n",
    "    print(\"The color is RED\")\n",
    "\n",
    "if (color == Colors2.BLUE):\n",
    "    print(\"The color is RED\")"
   ]
  },
  {
   "cell_type": "markdown",
   "id": "62aca9e9",
   "metadata": {},
   "source": []
  }
 ],
 "metadata": {
  "kernelspec": {
   "display_name": "py311",
   "language": "python",
   "name": "python3"
  },
  "language_info": {
   "codemirror_mode": {
    "name": "ipython",
    "version": 3
   },
   "file_extension": ".py",
   "mimetype": "text/x-python",
   "name": "python",
   "nbconvert_exporter": "python",
   "pygments_lexer": "ipython3",
   "version": "3.11.13"
  }
 },
 "nbformat": 4,
 "nbformat_minor": 5
}

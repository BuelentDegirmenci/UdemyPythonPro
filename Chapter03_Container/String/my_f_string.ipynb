{
 "cells": [
  {
   "cell_type": "code",
   "execution_count": 1,
   "id": "d38110ac",
   "metadata": {},
   "outputs": [],
   "source": [
    "# f-Strings"
   ]
  },
  {
   "cell_type": "code",
   "execution_count": 3,
   "id": "0128e0b5",
   "metadata": {},
   "outputs": [
    {
     "name": "stdout",
     "output_type": "stream",
     "text": [
      "my_name: Jan Schaffranek, my_int: 10, my_float: 42.123456\n"
     ]
    }
   ],
   "source": [
    "my_int = 10\n",
    "my_float = 42.123456\n",
    "my_name = \"Jan Schaffranek\"\n",
    "\n",
    "my_str = f\"my_name: {my_name}, my_int: {my_int}, my_float: {my_float}\"\n",
    "print(my_str)"
   ]
  },
  {
   "cell_type": "code",
   "execution_count": null,
   "id": "228a0d0b",
   "metadata": {},
   "outputs": [],
   "source": [
    "my_dict = {\"a\": 1}\n",
    "my_str2 = f\"{my_dict['a']}\"\n",
    "# zwei \"\" oder '' darf nan nicht verwenden, jedoch veice versa... das ist allerdings kein großer Nachteil"
   ]
  },
  {
   "cell_type": "code",
   "execution_count": null,
   "id": "689c2350",
   "metadata": {},
   "outputs": [],
   "source": []
  }
 ],
 "metadata": {
  "kernelspec": {
   "display_name": "base",
   "language": "python",
   "name": "python3"
  },
  "language_info": {
   "codemirror_mode": {
    "name": "ipython",
    "version": 3
   },
   "file_extension": ".py",
   "mimetype": "text/x-python",
   "name": "python",
   "nbconvert_exporter": "python",
   "pygments_lexer": "ipython3",
   "version": "3.12.9"
  }
 },
 "nbformat": 4,
 "nbformat_minor": 5
}

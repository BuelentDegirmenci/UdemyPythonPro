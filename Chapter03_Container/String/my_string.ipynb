{
 "cells": [
  {
   "cell_type": "code",
   "execution_count": null,
   "id": "f596da3e",
   "metadata": {},
   "outputs": [
    {
     "name": "stdout",
     "output_type": "stream",
     "text": [
      "\n",
      "\n"
     ]
    }
   ],
   "source": [
    "def memory_address(val: hex) -> hex:\n",
    "    return hex(id(val) % 0xfffff)\n",
    "\n",
    "def print_string_info(str):\n",
    "    print(f\"String adress: {memory_address(str)}\")\n",
    "    for val in str:\n",
    "        print(f\"Val: {memory_address(val)}\")\n",
    "print(\"\\n\")"
   ]
  },
  {
   "cell_type": "code",
   "execution_count": 5,
   "id": "a291c0c7",
   "metadata": {},
   "outputs": [
    {
     "name": "stdout",
     "output_type": "stream",
     "text": [
      "String adress: 0x8cb95\n",
      "Val: 0xe3e01\n",
      "Val: 0xe4251\n",
      "Val: 0xe44c1\n",
      "Val: 0xe44c1\n"
     ]
    }
   ],
   "source": [
    "my_name = \"Jann\"\n",
    "print_string_info(my_name)"
   ]
  },
  {
   "cell_type": "markdown",
   "id": "38b6feac",
   "metadata": {},
   "source": [
    "- Strings sind immutable in Python\n",
    "- Warum müssen die Strings immutable sein? \n",
    "  - Es gibt Sprachen, wo Strings mutable sind... \n",
    "  - Der Vorteil hier ist, dass sich die Länge nicht verändert und der Datentyp hashable ist\n",
    "  - hashable ist, weill be die Strings bei den Dictionaries als key verwenden können    \n",
    "  - weil die Länge kosntant ist, hat man weniger Probleme bei der Implementierung in CPyhton oder auch generell \n",
    "  - dass man aus dem gültigen Range von String rausläuft, also damit man nicht out of bounce läuft\n",
    "- #### Der String ist aber so aufgebaut:\n",
    "- String ist an sich eine Liste an Pointern, diese Pointer zeigen auf Speicheradresse für einen einzelnen Buchstaben, my_string = \"Buelent\"    "
   ]
  },
  {
   "cell_type": "code",
   "execution_count": null,
   "id": "04628062",
   "metadata": {},
   "outputs": [
    {
     "name": "stdout",
     "output_type": "stream",
     "text": [
      "Jbnn\n"
     ]
    }
   ],
   "source": [
    "# Wie kann man einen String verändern, in dem man an der Stelle die Änderung haben, die Änderung einführt und neuen\n",
    "# String erstellt\n",
    "\n",
    "my_name2 = my_name.replace(\"a\", \"b\")\n",
    "print(my_name2)\n",
    "\n",
    "# Strings hintereinander einfügen heißt konkatinieren."
   ]
  },
  {
   "cell_type": "code",
   "execution_count": null,
   "id": "d6c176b4",
   "metadata": {},
   "outputs": [],
   "source": []
  }
 ],
 "metadata": {
  "kernelspec": {
   "display_name": "base",
   "language": "python",
   "name": "python3"
  },
  "language_info": {
   "codemirror_mode": {
    "name": "ipython",
    "version": 3
   },
   "file_extension": ".py",
   "mimetype": "text/x-python",
   "name": "python",
   "nbconvert_exporter": "python",
   "pygments_lexer": "ipython3",
   "version": "3.12.9"
  }
 },
 "nbformat": 4,
 "nbformat_minor": 5
}

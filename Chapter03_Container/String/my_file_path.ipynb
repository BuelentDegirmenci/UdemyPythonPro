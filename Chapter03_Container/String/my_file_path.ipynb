{
 "cells": [
  {
   "cell_type": "code",
   "execution_count": 8,
   "id": "983868f9",
   "metadata": {},
   "outputs": [],
   "source": [
    "import os\n",
    "from pathlib import Path\n",
    "\n",
    "project_path = os.path.abspath(\n",
    "    \"C:/Udemy/UdemyPythonPro/\"\n",
    ")\n",
    "\n",
    "file_path = os.path.join(\n",
    "    project_path,\n",
    "    \"Chapter4_Conatiner\",\n",
    "    \"user_date_txt\"\n",
    ")"
   ]
  },
  {
   "cell_type": "code",
   "execution_count": 9,
   "id": "4a86a3c0",
   "metadata": {},
   "outputs": [
    {
     "name": "stdout",
     "output_type": "stream",
     "text": [
      "<class 'str'>\n",
      "C:\\Udemy\\UdemyPythonPro\\Chapter4_Conatiner\\user_date_txt\n"
     ]
    }
   ],
   "source": [
    "print(type(file_path))\n",
    "print(file_path)"
   ]
  },
  {
   "cell_type": "code",
   "execution_count": null,
   "id": "fbe1b46e",
   "metadata": {},
   "outputs": [
    {
     "name": "stdout",
     "output_type": "stream",
     "text": [
      "25 Jan\n"
     ]
    }
   ],
   "source": [
    "name = 'Jan'\n",
    "age = 25\n",
    "\n",
    "my_str = '{1} {0}'.format(name, age)\n",
    "print(my_str)"
   ]
  },
  {
   "cell_type": "code",
   "execution_count": 13,
   "id": "d22a9599",
   "metadata": {},
   "outputs": [
    {
     "data": {
      "text/plain": [
       "WindowsPath('C:/Users/Jan')"
      ]
     },
     "execution_count": 13,
     "metadata": {},
     "output_type": "execute_result"
    }
   ],
   "source": [
    "p = Path(\"C:/Users/Jan/text.txt\")\n",
    "p.parent"
   ]
  },
  {
   "cell_type": "code",
   "execution_count": 14,
   "id": "bac44c87",
   "metadata": {},
   "outputs": [
    {
     "data": {
      "text/plain": [
       "'text'"
      ]
     },
     "execution_count": 14,
     "metadata": {},
     "output_type": "execute_result"
    }
   ],
   "source": [
    "p = Path(\"C:/Users/Jan/text.txt\")\n",
    "p.stem"
   ]
  },
  {
   "cell_type": "code",
   "execution_count": null,
   "id": "e9703a7a",
   "metadata": {},
   "outputs": [],
   "source": []
  }
 ],
 "metadata": {
  "kernelspec": {
   "display_name": "base",
   "language": "python",
   "name": "python3"
  },
  "language_info": {
   "codemirror_mode": {
    "name": "ipython",
    "version": 3
   },
   "file_extension": ".py",
   "mimetype": "text/x-python",
   "name": "python",
   "nbconvert_exporter": "python",
   "pygments_lexer": "ipython3",
   "version": "3.12.9"
  }
 },
 "nbformat": 4,
 "nbformat_minor": 5
}

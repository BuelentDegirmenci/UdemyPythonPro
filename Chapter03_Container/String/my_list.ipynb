{
 "cells": [
  {
   "cell_type": "markdown",
   "id": "6c373a11",
   "metadata": {},
   "source": [
    "Mutuable Types (but not In-Place)"
   ]
  },
  {
   "cell_type": "code",
   "execution_count": 7,
   "id": "06f41e71",
   "metadata": {},
   "outputs": [],
   "source": [
    "# Funktion: die bekommt eine Liste ein, wird über die Listenelemente iteriert und Werte inkrementiert\n",
    "def inc_list(lst: list, inc_value: int) -> list:\n",
    "    for value in lst:\n",
    "        value = value + inc_value\n",
    "    return lst"
   ]
  },
  {
   "cell_type": "code",
   "execution_count": 8,
   "id": "25620c3d",
   "metadata": {},
   "outputs": [],
   "source": [
    "# Über die Index-Menge iterieren\n",
    "def inc_list(lst: list, inc_value: int) -> list:\n",
    "    for idx in range(len(lst)):\n",
    "        lst[idx] = lst[idx] + inc_value\n",
    "    return lst\n"
   ]
  },
  {
   "cell_type": "code",
   "execution_count": 1,
   "id": "d2d070ca",
   "metadata": {},
   "outputs": [],
   "source": [
    "def memory_adress(var):\n",
    "    return hex(id(var) & 0xFFFF)\n",
    "\n",
    "# Adressen von Listen, und Unter-Listen, falls welche vorhanden sind\n",
    "def print_list_info(lst):\n",
    "    print(f\"List adress: {memory_adress(lst)}\")\n",
    "    if len(lst) == 0:\n",
    "        return\n",
    "    if not isinstance(lst[0], list):\n",
    "        return\n",
    "    for i in range(len(lst)):\n",
    "        print(f\"Lst[{i}]: {memory_adress(lst[i])}\")\n",
    "        if isinstance(lst[i], list):\n",
    "            for j in range(len(lst[i])):\n",
    "                print(f\"Lst[{i}, {j}]: {memory_adress(lst[i][j])}\")\n",
    "    print(\"\\n\")"
   ]
  },
  {
   "cell_type": "code",
   "execution_count": 3,
   "id": "1306fb36",
   "metadata": {},
   "outputs": [
    {
     "name": "stdout",
     "output_type": "stream",
     "text": [
      "List adress: 0xfc80\n"
     ]
    }
   ],
   "source": [
    "my_list = [1, 2, 3]\n",
    "print_list_info(my_list)"
   ]
  },
  {
   "cell_type": "code",
   "execution_count": 6,
   "id": "e0386b01",
   "metadata": {},
   "outputs": [
    {
     "name": "stdout",
     "output_type": "stream",
     "text": [
      "List adress: 0x49c0\n",
      "Lst[0]: 0x6840\n",
      "Lst[0, 0]: 0x99b8\n",
      "Lst[0, 1]: 0x99d8\n",
      "Lst[1]: 0x5c80\n",
      "Lst[1, 0]: 0x99f8\n",
      "\n",
      "\n"
     ]
    }
   ],
   "source": [
    "my_list2 = [[1, 2], [3]]\n",
    "print_list_info(my_list2)"
   ]
  },
  {
   "cell_type": "code",
   "execution_count": 8,
   "id": "32081562",
   "metadata": {},
   "outputs": [
    {
     "name": "stdout",
     "output_type": "stream",
     "text": [
      "[0, 1, 2, 4]\n"
     ]
    }
   ],
   "source": [
    "my_list3 = [i for i in range(5) if (i < 3 or i == 4)]\n",
    "print(my_list3)"
   ]
  },
  {
   "cell_type": "code",
   "execution_count": 9,
   "id": "c64e2b38",
   "metadata": {},
   "outputs": [
    {
     "name": "stdout",
     "output_type": "stream",
     "text": [
      "[-1, -1, -1, 3, 4]\n"
     ]
    }
   ],
   "source": [
    "my_list4 = [i if i > 2 else -1 for i in range(5)]\n",
    "print(my_list4)"
   ]
  },
  {
   "cell_type": "code",
   "execution_count": null,
   "id": "f67c31b0",
   "metadata": {},
   "outputs": [],
   "source": []
  }
 ],
 "metadata": {
  "kernelspec": {
   "display_name": "base",
   "language": "python",
   "name": "python3"
  },
  "language_info": {
   "codemirror_mode": {
    "name": "ipython",
    "version": 3
   },
   "file_extension": ".py",
   "mimetype": "text/x-python",
   "name": "python",
   "nbconvert_exporter": "python",
   "pygments_lexer": "ipython3",
   "version": "3.12.9"
  }
 },
 "nbformat": 4,
 "nbformat_minor": 5
}
